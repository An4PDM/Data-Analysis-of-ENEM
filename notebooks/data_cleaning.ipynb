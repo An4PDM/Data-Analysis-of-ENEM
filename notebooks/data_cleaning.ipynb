{
 "cells": [
  {
   "cell_type": "code",
   "execution_count": 2,
   "id": "03094b86-4f93-414b-9d3e-396e2998be0d",
   "metadata": {},
   "outputs": [],
   "source": [
    "import pandas as pd\n",
    "import numpy as np\n",
    "import matplotlib.pyplot as plt\n",
    "import seaborn as sns\n",
    "from pprint import pprint"
   ]
  },
  {
   "cell_type": "code",
   "execution_count": 11,
   "id": "f8e606bf-8b87-4942-92de-fb994367eb5c",
   "metadata": {},
   "outputs": [],
   "source": [
    "microdata = pd.read_csv('../data/MICRODADOS_ENEM_2023.csv', sep=';', encoding='latin1', nrows=1000)"
   ]
  },
  {
   "cell_type": "code",
   "execution_count": 11,
   "id": "161bf453-af9d-451c-a3fa-ebc72ac28501",
   "metadata": {},
   "outputs": [],
   "source": [
    "items_data = pd.read_csv('../data/ITENS_PROVA_2023.csv', sep=';', encoding='latin1', nrows=1000)"
   ]
  },
  {
   "cell_type": "markdown",
   "id": "7c166a04-5f76-42a2-954c-2d747ae2628e",
   "metadata": {},
   "source": [
    "Os arquivos foram salvos em pickle para maior eficiencia de carregamento, evitando travamentos."
   ]
  },
  {
   "cell_type": "code",
   "execution_count": 101,
   "id": "d661b3b5-f2f4-4e5e-97c6-c93d6f96d4de",
   "metadata": {},
   "outputs": [],
   "source": [
    "microdata.to_pickle('../data/enem_2023.pkl') \n",
    "items_data.to_pickle('../data/items_data.pkl')\n",
    "dict_microdata.to_pickle('../data/dictionary/dict_microdata.pkl')"
   ]
  },
  {
   "cell_type": "code",
   "execution_count": 3,
   "id": "19962faa-8ca8-4811-bb9f-d1d44066cdd2",
   "metadata": {},
   "outputs": [],
   "source": [
    "microdata = pd.read_pickle('../data/enem_2023.pkl')"
   ]
  },
  {
   "cell_type": "code",
   "execution_count": 4,
   "id": "b566e78f-acca-44e8-a193-ff8c45a58fa6",
   "metadata": {},
   "outputs": [],
   "source": [
    "items_data = pd.read_pickle('../data/items_data.pkl')"
   ]
  },
  {
   "cell_type": "code",
   "execution_count": 5,
   "id": "e9a08344-1cc9-4f0f-ac4a-7b6f221e550c",
   "metadata": {},
   "outputs": [],
   "source": [
    "dict_microdata = pd.read_pickle('../data/dictionary/dict_microdata.pkl')"
   ]
  },
  {
   "cell_type": "markdown",
   "id": "a91c2056-e63b-4c41-889e-5bb4808c49e1",
   "metadata": {},
   "source": [
    "Os dados do arquivo de dicionário estão organizados em formato \"expandido verticalmente\". Isso dificulta o entendimento em análise de dados, portanto é necessário organizar as informações em dicionários para cada variável."
   ]
  },
  {
   "cell_type": "code",
   "execution_count": 13,
   "id": "d03dfb55-b208-492a-bffd-c165c9b92528",
   "metadata": {},
   "outputs": [],
   "source": [
    "# Dicionarios normalmente tem mais de uma aba, por isso deve-se ler o arquivo da seguinte forma:\n",
    "dict_xls = pd.ExcelFile('../data/dictionary/Dicionário_Microdados_Enem_2023.xlsx')"
   ]
  },
  {
   "cell_type": "code",
   "execution_count": 14,
   "id": "e95590b6-6aff-4dfa-ba42-cdf906d58bc5",
   "metadata": {},
   "outputs": [
    {
     "data": {
      "text/plain": [
       "['MICRODADOS_ENEM_2023', 'ITENS_PROVA_2023']"
      ]
     },
     "execution_count": 14,
     "metadata": {},
     "output_type": "execute_result"
    }
   ],
   "source": [
    "# Nome das abas\n",
    "dict_xls.sheet_names"
   ]
  },
  {
   "cell_type": "code",
   "execution_count": 28,
   "id": "52e147d6-b7d5-4e56-9b85-8d660af8f6f7",
   "metadata": {},
   "outputs": [
    {
     "data": {
      "text/plain": [
       "Index(['DICIONÁRIO DE VARIÁVEIS - ENEM 2023', 'Unnamed: 1', 'Unnamed: 2',\n",
       "       'Unnamed: 3', 'Unnamed: 4', 'Unnamed: 5'],\n",
       "      dtype='object')"
      ]
     },
     "execution_count": 28,
     "metadata": {},
     "output_type": "execute_result"
    }
   ],
   "source": [
    "dict_microdata = pd.read_excel(dict_xls, sheet_name='MICRODADOS_ENEM_2023')\n",
    "dict_microdata.columns # Percebe-se que o cabeçalho não apresenta os nomes das colunas"
   ]
  },
  {
   "cell_type": "code",
   "execution_count": 6,
   "id": "8d168882-7dcc-4de4-8e0b-c45c38db38ac",
   "metadata": {},
   "outputs": [
    {
     "data": {
      "text/html": [
       "<div>\n",
       "<style scoped>\n",
       "    .dataframe tbody tr th:only-of-type {\n",
       "        vertical-align: middle;\n",
       "    }\n",
       "\n",
       "    .dataframe tbody tr th {\n",
       "        vertical-align: top;\n",
       "    }\n",
       "\n",
       "    .dataframe thead th {\n",
       "        text-align: right;\n",
       "    }\n",
       "</style>\n",
       "<table border=\"1\" class=\"dataframe\">\n",
       "  <thead>\n",
       "    <tr style=\"text-align: right;\">\n",
       "      <th></th>\n",
       "      <th>DICIONÁRIO DE VARIÁVEIS - ENEM 2023</th>\n",
       "      <th>Descrição</th>\n",
       "      <th>Variáveis Categóricas</th>\n",
       "      <th>Categoria</th>\n",
       "      <th>Tamanho</th>\n",
       "      <th>Tipo</th>\n",
       "    </tr>\n",
       "  </thead>\n",
       "  <tbody>\n",
       "    <tr>\n",
       "      <th>0</th>\n",
       "      <td>NaN</td>\n",
       "      <td>NaN</td>\n",
       "      <td>NaN</td>\n",
       "      <td>NaN</td>\n",
       "      <td>NaN</td>\n",
       "      <td>NaN</td>\n",
       "    </tr>\n",
       "    <tr>\n",
       "      <th>1</th>\n",
       "      <td>NOME DA VARIÁVEL</td>\n",
       "      <td>Descrição</td>\n",
       "      <td>Variáveis Categóricas</td>\n",
       "      <td>NaN</td>\n",
       "      <td>Tamanho</td>\n",
       "      <td>Tipo</td>\n",
       "    </tr>\n",
       "    <tr>\n",
       "      <th>2</th>\n",
       "      <td>NaN</td>\n",
       "      <td>NaN</td>\n",
       "      <td>Categoria</td>\n",
       "      <td>Descrição</td>\n",
       "      <td>NaN</td>\n",
       "      <td>NaN</td>\n",
       "    </tr>\n",
       "    <tr>\n",
       "      <th>3</th>\n",
       "      <td>DADOS DO PARTICIPANTE</td>\n",
       "      <td>NaN</td>\n",
       "      <td>NaN</td>\n",
       "      <td>NaN</td>\n",
       "      <td>NaN</td>\n",
       "      <td>NaN</td>\n",
       "    </tr>\n",
       "    <tr>\n",
       "      <th>4</th>\n",
       "      <td>NU_INSCRICAO</td>\n",
       "      <td>Número de inscrição1</td>\n",
       "      <td>NaN</td>\n",
       "      <td>NaN</td>\n",
       "      <td>12</td>\n",
       "      <td>Numérica</td>\n",
       "    </tr>\n",
       "    <tr>\n",
       "      <th>5</th>\n",
       "      <td>NU_ANO</td>\n",
       "      <td>Ano do Enem</td>\n",
       "      <td>NaN</td>\n",
       "      <td>NaN</td>\n",
       "      <td>4</td>\n",
       "      <td>Numérica</td>\n",
       "    </tr>\n",
       "    <tr>\n",
       "      <th>6</th>\n",
       "      <td>TP_FAIXA_ETARIA</td>\n",
       "      <td>Faixa etária2</td>\n",
       "      <td>1</td>\n",
       "      <td>Menor de 17 anos</td>\n",
       "      <td>2</td>\n",
       "      <td>Numérica</td>\n",
       "    </tr>\n",
       "    <tr>\n",
       "      <th>7</th>\n",
       "      <td>NaN</td>\n",
       "      <td>NaN</td>\n",
       "      <td>2</td>\n",
       "      <td>17 anos</td>\n",
       "      <td>NaN</td>\n",
       "      <td>NaN</td>\n",
       "    </tr>\n",
       "    <tr>\n",
       "      <th>8</th>\n",
       "      <td>NaN</td>\n",
       "      <td>NaN</td>\n",
       "      <td>3</td>\n",
       "      <td>18 anos</td>\n",
       "      <td>NaN</td>\n",
       "      <td>NaN</td>\n",
       "    </tr>\n",
       "    <tr>\n",
       "      <th>9</th>\n",
       "      <td>NaN</td>\n",
       "      <td>NaN</td>\n",
       "      <td>4</td>\n",
       "      <td>19 anos</td>\n",
       "      <td>NaN</td>\n",
       "      <td>NaN</td>\n",
       "    </tr>\n",
       "  </tbody>\n",
       "</table>\n",
       "</div>"
      ],
      "text/plain": [
       "  DICIONÁRIO DE VARIÁVEIS - ENEM 2023              Descrição  \\\n",
       "0                                 NaN                    NaN   \n",
       "1                    NOME DA VARIÁVEL              Descrição   \n",
       "2                                 NaN                    NaN   \n",
       "3               DADOS DO PARTICIPANTE                    NaN   \n",
       "4                        NU_INSCRICAO  Número de inscrição1    \n",
       "5                              NU_ANO            Ano do Enem   \n",
       "6                     TP_FAIXA_ETARIA          Faixa etária2   \n",
       "7                                 NaN                    NaN   \n",
       "8                                 NaN                    NaN   \n",
       "9                                 NaN                    NaN   \n",
       "\n",
       "   Variáveis Categóricas         Categoria   Tamanho      Tipo  \n",
       "0                    NaN               NaN       NaN       NaN  \n",
       "1  Variáveis Categóricas               NaN  Tamanho       Tipo  \n",
       "2              Categoria         Descrição       NaN       NaN  \n",
       "3                    NaN               NaN       NaN       NaN  \n",
       "4                    NaN               NaN        12  Numérica  \n",
       "5                    NaN               NaN         4  Numérica  \n",
       "6                      1  Menor de 17 anos         2  Numérica  \n",
       "7                      2           17 anos       NaN       NaN  \n",
       "8                      3           18 anos       NaN       NaN  \n",
       "9                      4           19 anos       NaN       NaN  "
      ]
     },
     "execution_count": 6,
     "metadata": {},
     "output_type": "execute_result"
    }
   ],
   "source": [
    "# Verificação dos nomes das colunas\n",
    "dict_microdata.head(10)"
   ]
  },
  {
   "cell_type": "markdown",
   "id": "b01334e0-a3d3-4ee0-a410-1c8d1cfe80e0",
   "metadata": {},
   "source": [
    "O dicionário de microdados está em formato vertical expandido, o que dificulta a leitura. Portanto foi necessário alterá-lo para um dicionário de dicionários."
   ]
  },
  {
   "cell_type": "code",
   "execution_count": 30,
   "id": "b6fd59c1-be87-4c74-889b-5a18d11a5ccb",
   "metadata": {},
   "outputs": [],
   "source": [
    "# Renomeando as colunas do dict\n",
    "dict_microdata = dict_microdata.rename(columns={\n",
    "    'Unnamed: 1': 'Descrição',\n",
    "    'Unnamed: 2': 'Variáveis Categóricas',\n",
    "    'Unnamed: 3': 'Categoria',\n",
    "    'Unnamed: 4':  'Tamanho',\n",
    "    'Unnamed: 5': 'Tipo'\n",
    "})"
   ]
  },
  {
   "cell_type": "code",
   "execution_count": 65,
   "id": "9c578fab-ae4d-45c5-bdae-1ce59a7654aa",
   "metadata": {},
   "outputs": [
    {
     "data": {
      "text/html": [
       "<div>\n",
       "<style scoped>\n",
       "    .dataframe tbody tr th:only-of-type {\n",
       "        vertical-align: middle;\n",
       "    }\n",
       "\n",
       "    .dataframe tbody tr th {\n",
       "        vertical-align: top;\n",
       "    }\n",
       "\n",
       "    .dataframe thead th {\n",
       "        text-align: right;\n",
       "    }\n",
       "</style>\n",
       "<table border=\"1\" class=\"dataframe\">\n",
       "  <thead>\n",
       "    <tr style=\"text-align: right;\">\n",
       "      <th></th>\n",
       "      <th>DICIONÁRIO DE VARIÁVEIS - ENEM 2023</th>\n",
       "      <th>Descrição</th>\n",
       "      <th>Variáveis Categóricas</th>\n",
       "      <th>Categoria</th>\n",
       "      <th>Tamanho</th>\n",
       "      <th>Tipo</th>\n",
       "    </tr>\n",
       "  </thead>\n",
       "  <tbody>\n",
       "    <tr>\n",
       "      <th>0</th>\n",
       "      <td>NaN</td>\n",
       "      <td>NaN</td>\n",
       "      <td>NaN</td>\n",
       "      <td>NaN</td>\n",
       "      <td>NaN</td>\n",
       "      <td>NaN</td>\n",
       "    </tr>\n",
       "    <tr>\n",
       "      <th>1</th>\n",
       "      <td>NOME DA VARIÁVEL</td>\n",
       "      <td>Descrição</td>\n",
       "      <td>Variáveis Categóricas</td>\n",
       "      <td>NaN</td>\n",
       "      <td>Tamanho</td>\n",
       "      <td>Tipo</td>\n",
       "    </tr>\n",
       "    <tr>\n",
       "      <th>2</th>\n",
       "      <td>NaN</td>\n",
       "      <td>NaN</td>\n",
       "      <td>Categoria</td>\n",
       "      <td>Descrição</td>\n",
       "      <td>NaN</td>\n",
       "      <td>NaN</td>\n",
       "    </tr>\n",
       "    <tr>\n",
       "      <th>3</th>\n",
       "      <td>DADOS DO PARTICIPANTE</td>\n",
       "      <td>NaN</td>\n",
       "      <td>NaN</td>\n",
       "      <td>NaN</td>\n",
       "      <td>NaN</td>\n",
       "      <td>NaN</td>\n",
       "    </tr>\n",
       "    <tr>\n",
       "      <th>4</th>\n",
       "      <td>NU_INSCRICAO</td>\n",
       "      <td>Número de inscrição1</td>\n",
       "      <td>NaN</td>\n",
       "      <td>NaN</td>\n",
       "      <td>12</td>\n",
       "      <td>Numérica</td>\n",
       "    </tr>\n",
       "  </tbody>\n",
       "</table>\n",
       "</div>"
      ],
      "text/plain": [
       "  DICIONÁRIO DE VARIÁVEIS - ENEM 2023              Descrição  \\\n",
       "0                                 NaN                    NaN   \n",
       "1                    NOME DA VARIÁVEL              Descrição   \n",
       "2                                 NaN                    NaN   \n",
       "3               DADOS DO PARTICIPANTE                    NaN   \n",
       "4                        NU_INSCRICAO  Número de inscrição1    \n",
       "\n",
       "   Variáveis Categóricas  Categoria   Tamanho      Tipo  \n",
       "0                    NaN        NaN       NaN       NaN  \n",
       "1  Variáveis Categóricas        NaN  Tamanho       Tipo  \n",
       "2              Categoria  Descrição       NaN       NaN  \n",
       "3                    NaN        NaN       NaN       NaN  \n",
       "4                    NaN        NaN        12  Numérica  "
      ]
     },
     "execution_count": 65,
     "metadata": {},
     "output_type": "execute_result"
    }
   ],
   "source": [
    "dict_microdata.head()"
   ]
  },
  {
   "cell_type": "code",
   "execution_count": 7,
   "id": "a304a892-289b-443a-8830-0054bf451b9d",
   "metadata": {},
   "outputs": [],
   "source": [
    "filtro = dict_microdata['Categoria'].str.contains('Pública',case=False, na=False)"
   ]
  },
  {
   "cell_type": "code",
   "execution_count": 8,
   "id": "7dc31301-0c36-427a-8e1f-47ed3e16e39f",
   "metadata": {},
   "outputs": [
    {
     "data": {
      "text/html": [
       "<div>\n",
       "<style scoped>\n",
       "    .dataframe tbody tr th:only-of-type {\n",
       "        vertical-align: middle;\n",
       "    }\n",
       "\n",
       "    .dataframe tbody tr th {\n",
       "        vertical-align: top;\n",
       "    }\n",
       "\n",
       "    .dataframe thead th {\n",
       "        text-align: right;\n",
       "    }\n",
       "</style>\n",
       "<table border=\"1\" class=\"dataframe\">\n",
       "  <thead>\n",
       "    <tr style=\"text-align: right;\">\n",
       "      <th></th>\n",
       "      <th>Categoria</th>\n",
       "      <th>Variáveis Categóricas</th>\n",
       "    </tr>\n",
       "  </thead>\n",
       "  <tbody>\n",
       "    <tr>\n",
       "      <th>68</th>\n",
       "      <td>Pública</td>\n",
       "      <td>2</td>\n",
       "    </tr>\n",
       "    <tr>\n",
       "      <th>217</th>\n",
       "      <td>Grupo 5: Médico, engenheiro, dentista, psicólo...</td>\n",
       "      <td>E</td>\n",
       "    </tr>\n",
       "    <tr>\n",
       "      <th>223</th>\n",
       "      <td>Grupo 5: Médica, engenheira, dentista, psicólo...</td>\n",
       "      <td>E</td>\n",
       "    </tr>\n",
       "  </tbody>\n",
       "</table>\n",
       "</div>"
      ],
      "text/plain": [
       "                                             Categoria Variáveis Categóricas\n",
       "68                                             Pública                     2\n",
       "217  Grupo 5: Médico, engenheiro, dentista, psicólo...                     E\n",
       "223  Grupo 5: Médica, engenheira, dentista, psicólo...                     E"
      ]
     },
     "execution_count": 8,
     "metadata": {},
     "output_type": "execute_result"
    }
   ],
   "source": [
    "dict_microdata.loc[filtro, ['Categoria','Variáveis Categóricas']]"
   ]
  },
  {
   "cell_type": "code",
   "execution_count": 9,
   "id": "eee6c800-d4c8-408b-b956-a175378fa2a6",
   "metadata": {},
   "outputs": [
    {
     "data": {
      "text/plain": [
       "Index(['NU_INSCRICAO', 'NU_ANO', 'TP_FAIXA_ETARIA', 'TP_SEXO',\n",
       "       'TP_ESTADO_CIVIL', 'TP_COR_RACA', 'TP_NACIONALIDADE', 'TP_ST_CONCLUSAO',\n",
       "       'TP_ANO_CONCLUIU', 'TP_ESCOLA', 'TP_ENSINO', 'IN_TREINEIRO',\n",
       "       'CO_MUNICIPIO_ESC', 'NO_MUNICIPIO_ESC', 'CO_UF_ESC', 'SG_UF_ESC',\n",
       "       'TP_DEPENDENCIA_ADM_ESC', 'TP_LOCALIZACAO_ESC', 'TP_SIT_FUNC_ESC',\n",
       "       'CO_MUNICIPIO_PROVA', 'NO_MUNICIPIO_PROVA', 'CO_UF_PROVA',\n",
       "       'SG_UF_PROVA', 'TP_PRESENCA_CN', 'TP_PRESENCA_CH', 'TP_PRESENCA_LC',\n",
       "       'TP_PRESENCA_MT', 'CO_PROVA_CN', 'CO_PROVA_CH', 'CO_PROVA_LC',\n",
       "       'CO_PROVA_MT', 'NU_NOTA_CN', 'NU_NOTA_CH', 'NU_NOTA_LC', 'NU_NOTA_MT',\n",
       "       'TX_RESPOSTAS_CN', 'TX_RESPOSTAS_CH', 'TX_RESPOSTAS_LC',\n",
       "       'TX_RESPOSTAS_MT', 'TP_LINGUA', 'TX_GABARITO_CN', 'TX_GABARITO_CH',\n",
       "       'TX_GABARITO_LC', 'TX_GABARITO_MT', 'TP_STATUS_REDACAO',\n",
       "       'NU_NOTA_COMP1', 'NU_NOTA_COMP2', 'NU_NOTA_COMP3', 'NU_NOTA_COMP4',\n",
       "       'NU_NOTA_COMP5', 'NU_NOTA_REDACAO', 'Q001', 'Q002', 'Q003', 'Q004',\n",
       "       'Q005', 'Q006', 'Q007', 'Q008', 'Q009', 'Q010', 'Q011', 'Q012', 'Q013',\n",
       "       'Q014', 'Q015', 'Q016', 'Q017', 'Q018', 'Q019', 'Q020', 'Q021', 'Q022',\n",
       "       'Q023', 'Q024', 'Q025'],\n",
       "      dtype='object')"
      ]
     },
     "execution_count": 9,
     "metadata": {},
     "output_type": "execute_result"
    }
   ],
   "source": [
    "microdata.columns"
   ]
  },
  {
   "cell_type": "code",
   "execution_count": 41,
   "id": "d3e5393c-a913-415d-8da0-a14e5bc73655",
   "metadata": {},
   "outputs": [],
   "source": [
    "filtro_column = dict_microdata['DICIONÁRIO DE VARIÁVEIS - ENEM 2023'].str.contains('CO_MUNICIPIO_ESC', case=False, na=False)"
   ]
  },
  {
   "cell_type": "code",
   "execution_count": 42,
   "id": "6a40ba13-cef8-4cc4-aac0-5bd78870850b",
   "metadata": {},
   "outputs": [
    {
     "data": {
      "text/html": [
       "<div>\n",
       "<style scoped>\n",
       "    .dataframe tbody tr th:only-of-type {\n",
       "        vertical-align: middle;\n",
       "    }\n",
       "\n",
       "    .dataframe tbody tr th {\n",
       "        vertical-align: top;\n",
       "    }\n",
       "\n",
       "    .dataframe thead th {\n",
       "        text-align: right;\n",
       "    }\n",
       "</style>\n",
       "<table border=\"1\" class=\"dataframe\">\n",
       "  <thead>\n",
       "    <tr style=\"text-align: right;\">\n",
       "      <th></th>\n",
       "      <th>Descrição</th>\n",
       "      <th>Categoria</th>\n",
       "    </tr>\n",
       "  </thead>\n",
       "  <tbody>\n",
       "    <tr>\n",
       "      <th>75</th>\n",
       "      <td>Código do município da escola</td>\n",
       "      <td>NaN</td>\n",
       "    </tr>\n",
       "  </tbody>\n",
       "</table>\n",
       "</div>"
      ],
      "text/plain": [
       "                         Descrição Categoria\n",
       "75  Código do município da escola        NaN"
      ]
     },
     "execution_count": 42,
     "metadata": {},
     "output_type": "execute_result"
    }
   ],
   "source": [
    "dict_microdata.loc[filtro_column, ['Descrição', 'Categoria']]"
   ]
  },
  {
   "cell_type": "markdown",
   "id": "ff505cc7-1242-4fa8-a1d3-0dae7a43c9cd",
   "metadata": {},
   "source": [
    "Será feito o mapeamento para as seguintes variáveis categóricas: TP_ENSINO, TP_COR_RACA, TP_LOCALIZACAO\n",
    "\n",
    "    * Mudar o nome das colunas da tabela de microdados para nomes explicativos"
   ]
  },
  {
   "cell_type": "code",
   "execution_count": 8,
   "id": "65b2d757-7220-4243-a031-99083dd29c58",
   "metadata": {},
   "outputs": [],
   "source": [
    "microdata = microdata.rename(columns={\n",
    "    'NU_ANO': 'Ano do ENEM',\n",
    "    'TP_FAIXA_ETARIA': 'Faixa etaria',\n",
    "    'TP_SEXO': 'Sexo',\n",
    "    'TP_ESTADO_CIVIL': 'Estado civil', \n",
    "    'TP_COR_RACA': 'Raca/cor', \n",
    "    'TP_NACIONALIDADE': 'Nacionalidade', \n",
    "    'TP_ST_CONCLUSAO': 'Situação do Ensino Medio',\n",
    "    'TP_ANO_CONCLUIU': 'Ano conclusao Ensino Medio', \n",
    "    'TP_ESCOLA': 'Escola', \n",
    "    'TP_ENSINO': 'Tipo de ensino',\n",
    "    'IN_TREINEIRO': 'Treineiro',\n",
    "    'TP_LOCALIZACAO_ESC': 'Local escola', \n",
    "    'TP_PRESENCA_CN': 'Presenca C Naturais', \n",
    "    'TP_PRESENCA_CH': 'Presenca C Humanas', \n",
    "    'TP_PRESENCA_LC': 'Presenca Linguagens',\n",
    "    'TP_PRESENCA_MT': 'Presenca mat', \n",
    "    'NU_NOTA_CN': 'Nota C Naturais', \n",
    "    'NU_NOTA_CH': 'Nota C Humanas', \n",
    "    'NU_NOTA_LC': 'Nota Linguagens', \n",
    "    'NU_NOTA_MT': 'Nota mat',\n",
    "    'TP_STATUS_REDACAO': 'Situacao redacao',\n",
    "    'NU_NOTA_REDACAO': 'Nota redacao'\n",
    "})"
   ]
  },
  {
   "cell_type": "code",
   "execution_count": 17,
   "id": "b0a0901e-c8b9-4074-825d-1dc4edf91f03",
   "metadata": {},
   "outputs": [],
   "source": [
    "microdata_filtered = microdata[['Ano do ENEM','Estado civil','Raca/cor','Sexo','Nacionalidade',\n",
    "                                'Situação do Ensino Medio','Tipo de ensino','Nota C Naturais',\n",
    "                                'Nota C Humanas', 'Nota Linguagens', 'Nota mat', 'Situacao redacao', 'Nota redacao']]"
   ]
  },
  {
   "cell_type": "code",
   "execution_count": 10,
   "id": "338304e6-653b-47a1-a95f-50021943f634",
   "metadata": {},
   "outputs": [
    {
     "data": {
      "text/html": [
       "<div>\n",
       "<style scoped>\n",
       "    .dataframe tbody tr th:only-of-type {\n",
       "        vertical-align: middle;\n",
       "    }\n",
       "\n",
       "    .dataframe tbody tr th {\n",
       "        vertical-align: top;\n",
       "    }\n",
       "\n",
       "    .dataframe thead th {\n",
       "        text-align: right;\n",
       "    }\n",
       "</style>\n",
       "<table border=\"1\" class=\"dataframe\">\n",
       "  <thead>\n",
       "    <tr style=\"text-align: right;\">\n",
       "      <th></th>\n",
       "      <th>NU_INSCRICAO</th>\n",
       "      <th>Ano do ENEM</th>\n",
       "      <th>Faixa etaria</th>\n",
       "      <th>Sexo</th>\n",
       "      <th>Estado civil</th>\n",
       "      <th>Raca/cor</th>\n",
       "      <th>Nacionalidade</th>\n",
       "      <th>Situação do Ensino Medio</th>\n",
       "      <th>Ano conclusao Ensino Medio</th>\n",
       "      <th>Escola</th>\n",
       "      <th>...</th>\n",
       "      <th>Q016</th>\n",
       "      <th>Q017</th>\n",
       "      <th>Q018</th>\n",
       "      <th>Q019</th>\n",
       "      <th>Q020</th>\n",
       "      <th>Q021</th>\n",
       "      <th>Q022</th>\n",
       "      <th>Q023</th>\n",
       "      <th>Q024</th>\n",
       "      <th>Q025</th>\n",
       "    </tr>\n",
       "  </thead>\n",
       "  <tbody>\n",
       "    <tr>\n",
       "      <th>0</th>\n",
       "      <td>210059085136</td>\n",
       "      <td>2023</td>\n",
       "      <td>14</td>\n",
       "      <td>M</td>\n",
       "      <td>2</td>\n",
       "      <td>1</td>\n",
       "      <td>1</td>\n",
       "      <td>1</td>\n",
       "      <td>17</td>\n",
       "      <td>1</td>\n",
       "      <td>...</td>\n",
       "      <td>C</td>\n",
       "      <td>C</td>\n",
       "      <td>B</td>\n",
       "      <td>B</td>\n",
       "      <td>A</td>\n",
       "      <td>B</td>\n",
       "      <td>B</td>\n",
       "      <td>A</td>\n",
       "      <td>A</td>\n",
       "      <td>B</td>\n",
       "    </tr>\n",
       "    <tr>\n",
       "      <th>1</th>\n",
       "      <td>210059527735</td>\n",
       "      <td>2023</td>\n",
       "      <td>12</td>\n",
       "      <td>M</td>\n",
       "      <td>2</td>\n",
       "      <td>1</td>\n",
       "      <td>0</td>\n",
       "      <td>1</td>\n",
       "      <td>16</td>\n",
       "      <td>1</td>\n",
       "      <td>...</td>\n",
       "      <td>B</td>\n",
       "      <td>A</td>\n",
       "      <td>B</td>\n",
       "      <td>B</td>\n",
       "      <td>A</td>\n",
       "      <td>A</td>\n",
       "      <td>C</td>\n",
       "      <td>A</td>\n",
       "      <td>D</td>\n",
       "      <td>B</td>\n",
       "    </tr>\n",
       "    <tr>\n",
       "      <th>2</th>\n",
       "      <td>210061103945</td>\n",
       "      <td>2023</td>\n",
       "      <td>6</td>\n",
       "      <td>F</td>\n",
       "      <td>1</td>\n",
       "      <td>1</td>\n",
       "      <td>1</td>\n",
       "      <td>1</td>\n",
       "      <td>0</td>\n",
       "      <td>1</td>\n",
       "      <td>...</td>\n",
       "      <td>B</td>\n",
       "      <td>A</td>\n",
       "      <td>A</td>\n",
       "      <td>B</td>\n",
       "      <td>A</td>\n",
       "      <td>A</td>\n",
       "      <td>A</td>\n",
       "      <td>A</td>\n",
       "      <td>A</td>\n",
       "      <td>B</td>\n",
       "    </tr>\n",
       "    <tr>\n",
       "      <th>3</th>\n",
       "      <td>210060214087</td>\n",
       "      <td>2023</td>\n",
       "      <td>2</td>\n",
       "      <td>F</td>\n",
       "      <td>1</td>\n",
       "      <td>3</td>\n",
       "      <td>1</td>\n",
       "      <td>2</td>\n",
       "      <td>0</td>\n",
       "      <td>2</td>\n",
       "      <td>...</td>\n",
       "      <td>A</td>\n",
       "      <td>A</td>\n",
       "      <td>A</td>\n",
       "      <td>B</td>\n",
       "      <td>A</td>\n",
       "      <td>A</td>\n",
       "      <td>D</td>\n",
       "      <td>A</td>\n",
       "      <td>A</td>\n",
       "      <td>B</td>\n",
       "    </tr>\n",
       "    <tr>\n",
       "      <th>4</th>\n",
       "      <td>210059980948</td>\n",
       "      <td>2023</td>\n",
       "      <td>3</td>\n",
       "      <td>F</td>\n",
       "      <td>1</td>\n",
       "      <td>3</td>\n",
       "      <td>1</td>\n",
       "      <td>2</td>\n",
       "      <td>0</td>\n",
       "      <td>2</td>\n",
       "      <td>...</td>\n",
       "      <td>A</td>\n",
       "      <td>A</td>\n",
       "      <td>A</td>\n",
       "      <td>B</td>\n",
       "      <td>A</td>\n",
       "      <td>A</td>\n",
       "      <td>B</td>\n",
       "      <td>A</td>\n",
       "      <td>A</td>\n",
       "      <td>A</td>\n",
       "    </tr>\n",
       "  </tbody>\n",
       "</table>\n",
       "<p>5 rows × 76 columns</p>\n",
       "</div>"
      ],
      "text/plain": [
       "   NU_INSCRICAO  Ano do ENEM  Faixa etaria Sexo  Estado civil  Raca/cor  \\\n",
       "0  210059085136         2023            14    M             2         1   \n",
       "1  210059527735         2023            12    M             2         1   \n",
       "2  210061103945         2023             6    F             1         1   \n",
       "3  210060214087         2023             2    F             1         3   \n",
       "4  210059980948         2023             3    F             1         3   \n",
       "\n",
       "   Nacionalidade  Situação do Ensino Medio  Ano conclusao Ensino Medio  \\\n",
       "0              1                         1                          17   \n",
       "1              0                         1                          16   \n",
       "2              1                         1                           0   \n",
       "3              1                         2                           0   \n",
       "4              1                         2                           0   \n",
       "\n",
       "   Escola  ...  Q016  Q017  Q018 Q019  Q020 Q021  Q022  Q023  Q024  Q025  \n",
       "0       1  ...     C     C     B    B     A    B     B     A     A     B  \n",
       "1       1  ...     B     A     B    B     A    A     C     A     D     B  \n",
       "2       1  ...     B     A     A    B     A    A     A     A     A     B  \n",
       "3       2  ...     A     A     A    B     A    A     D     A     A     B  \n",
       "4       2  ...     A     A     A    B     A    A     B     A     A     A  \n",
       "\n",
       "[5 rows x 76 columns]"
      ]
     },
     "execution_count": 10,
     "metadata": {},
     "output_type": "execute_result"
    }
   ],
   "source": [
    "microdata.head()"
   ]
  },
  {
   "cell_type": "code",
   "execution_count": 18,
   "id": "11dd3ce7-9ab5-414c-8621-fbcdb027465b",
   "metadata": {},
   "outputs": [
    {
     "data": {
      "text/html": [
       "<div>\n",
       "<style scoped>\n",
       "    .dataframe tbody tr th:only-of-type {\n",
       "        vertical-align: middle;\n",
       "    }\n",
       "\n",
       "    .dataframe tbody tr th {\n",
       "        vertical-align: top;\n",
       "    }\n",
       "\n",
       "    .dataframe thead th {\n",
       "        text-align: right;\n",
       "    }\n",
       "</style>\n",
       "<table border=\"1\" class=\"dataframe\">\n",
       "  <thead>\n",
       "    <tr style=\"text-align: right;\">\n",
       "      <th></th>\n",
       "      <th>Ano do ENEM</th>\n",
       "      <th>Estado civil</th>\n",
       "      <th>Raca/cor</th>\n",
       "      <th>Sexo</th>\n",
       "      <th>Nacionalidade</th>\n",
       "      <th>Situação do Ensino Medio</th>\n",
       "      <th>Tipo de ensino</th>\n",
       "      <th>Nota C Naturais</th>\n",
       "      <th>Nota C Humanas</th>\n",
       "      <th>Nota Linguagens</th>\n",
       "      <th>Nota mat</th>\n",
       "      <th>Situacao redacao</th>\n",
       "      <th>Nota redacao</th>\n",
       "    </tr>\n",
       "  </thead>\n",
       "  <tbody>\n",
       "    <tr>\n",
       "      <th>0</th>\n",
       "      <td>2023</td>\n",
       "      <td>2</td>\n",
       "      <td>1</td>\n",
       "      <td>M</td>\n",
       "      <td>1</td>\n",
       "      <td>1</td>\n",
       "      <td>NaN</td>\n",
       "      <td>NaN</td>\n",
       "      <td>NaN</td>\n",
       "      <td>NaN</td>\n",
       "      <td>NaN</td>\n",
       "      <td>NaN</td>\n",
       "      <td>NaN</td>\n",
       "    </tr>\n",
       "    <tr>\n",
       "      <th>1</th>\n",
       "      <td>2023</td>\n",
       "      <td>2</td>\n",
       "      <td>1</td>\n",
       "      <td>M</td>\n",
       "      <td>0</td>\n",
       "      <td>1</td>\n",
       "      <td>NaN</td>\n",
       "      <td>NaN</td>\n",
       "      <td>NaN</td>\n",
       "      <td>NaN</td>\n",
       "      <td>NaN</td>\n",
       "      <td>NaN</td>\n",
       "      <td>NaN</td>\n",
       "    </tr>\n",
       "    <tr>\n",
       "      <th>2</th>\n",
       "      <td>2023</td>\n",
       "      <td>1</td>\n",
       "      <td>1</td>\n",
       "      <td>F</td>\n",
       "      <td>1</td>\n",
       "      <td>1</td>\n",
       "      <td>NaN</td>\n",
       "      <td>502.0</td>\n",
       "      <td>498.9</td>\n",
       "      <td>475.6</td>\n",
       "      <td>363.2</td>\n",
       "      <td>1.0</td>\n",
       "      <td>700.0</td>\n",
       "    </tr>\n",
       "    <tr>\n",
       "      <th>3</th>\n",
       "      <td>2023</td>\n",
       "      <td>1</td>\n",
       "      <td>3</td>\n",
       "      <td>F</td>\n",
       "      <td>1</td>\n",
       "      <td>2</td>\n",
       "      <td>1.0</td>\n",
       "      <td>459.0</td>\n",
       "      <td>508.5</td>\n",
       "      <td>507.2</td>\n",
       "      <td>466.7</td>\n",
       "      <td>1.0</td>\n",
       "      <td>880.0</td>\n",
       "    </tr>\n",
       "    <tr>\n",
       "      <th>4</th>\n",
       "      <td>2023</td>\n",
       "      <td>1</td>\n",
       "      <td>3</td>\n",
       "      <td>F</td>\n",
       "      <td>1</td>\n",
       "      <td>2</td>\n",
       "      <td>1.0</td>\n",
       "      <td>402.5</td>\n",
       "      <td>379.2</td>\n",
       "      <td>446.9</td>\n",
       "      <td>338.3</td>\n",
       "      <td>1.0</td>\n",
       "      <td>560.0</td>\n",
       "    </tr>\n",
       "  </tbody>\n",
       "</table>\n",
       "</div>"
      ],
      "text/plain": [
       "   Ano do ENEM  Estado civil  Raca/cor Sexo  Nacionalidade  \\\n",
       "0         2023             2         1    M              1   \n",
       "1         2023             2         1    M              0   \n",
       "2         2023             1         1    F              1   \n",
       "3         2023             1         3    F              1   \n",
       "4         2023             1         3    F              1   \n",
       "\n",
       "   Situação do Ensino Medio  Tipo de ensino  Nota C Naturais  Nota C Humanas  \\\n",
       "0                         1             NaN              NaN             NaN   \n",
       "1                         1             NaN              NaN             NaN   \n",
       "2                         1             NaN            502.0           498.9   \n",
       "3                         2             1.0            459.0           508.5   \n",
       "4                         2             1.0            402.5           379.2   \n",
       "\n",
       "   Nota Linguagens  Nota mat  Situacao redacao  Nota redacao  \n",
       "0              NaN       NaN               NaN           NaN  \n",
       "1              NaN       NaN               NaN           NaN  \n",
       "2            475.6     363.2               1.0         700.0  \n",
       "3            507.2     466.7               1.0         880.0  \n",
       "4            446.9     338.3               1.0         560.0  "
      ]
     },
     "execution_count": 18,
     "metadata": {},
     "output_type": "execute_result"
    }
   ],
   "source": [
    "microdata_filtered.head()"
   ]
  },
  {
   "cell_type": "code",
   "execution_count": 19,
   "id": "6ee058b7-57c3-471a-9b7c-c27dc2921cc7",
   "metadata": {
    "scrolled": true
   },
   "outputs": [
    {
     "name": "stdout",
     "output_type": "stream",
     "text": [
      "<class 'pandas.core.frame.DataFrame'>\n",
      "RangeIndex: 1000 entries, 0 to 999\n",
      "Data columns (total 13 columns):\n",
      " #   Column                    Non-Null Count  Dtype  \n",
      "---  ------                    --------------  -----  \n",
      " 0   Ano do ENEM               1000 non-null   int64  \n",
      " 1   Estado civil              1000 non-null   int64  \n",
      " 2   Raca/cor                  1000 non-null   int64  \n",
      " 3   Sexo                      1000 non-null   object \n",
      " 4   Nacionalidade             1000 non-null   int64  \n",
      " 5   Situação do Ensino Medio  1000 non-null   int64  \n",
      " 6   Tipo de ensino            233 non-null    float64\n",
      " 7   Nota C Naturais           677 non-null    float64\n",
      " 8   Nota C Humanas            701 non-null    float64\n",
      " 9   Nota Linguagens           701 non-null    float64\n",
      " 10  Nota mat                  677 non-null    float64\n",
      " 11  Situacao redacao          701 non-null    float64\n",
      " 12  Nota redacao              701 non-null    float64\n",
      "dtypes: float64(7), int64(5), object(1)\n",
      "memory usage: 101.7+ KB\n"
     ]
    }
   ],
   "source": [
    "microdata_filtered.info()"
   ]
  },
  {
   "cell_type": "markdown",
   "id": "2b3c6c86-767c-4f3c-ac80-8fc44ab40ff8",
   "metadata": {},
   "source": [
    "Colunas que terão dados faltantes preenchidos: **Nota redacao**, **Situacao redacao**, **Nota mat**, **Nota Linguagens**, **Nota C Humanas**, **Nota C Humanas**.\n",
    "A coluna **Tipo de ensino** apresenta muitos dados faltantes (mais de 50%), portanto será apagada."
   ]
  },
  {
   "cell_type": "code",
   "execution_count": 24,
   "id": "e5085fdd-65ba-4dcb-93bf-c7d4f33221b0",
   "metadata": {},
   "outputs": [],
   "source": [
    "microdata_filtered = microdata_filtered.drop(columns=['Tipo de ensino'])"
   ]
  },
  {
   "cell_type": "code",
   "execution_count": 26,
   "id": "beaee1ff-4e2a-4093-90a2-76b698d41aa9",
   "metadata": {},
   "outputs": [
    {
     "data": {
      "text/plain": [
       "Index(['Ano do ENEM', 'Estado civil', 'Raca/cor', 'Sexo', 'Nacionalidade',\n",
       "       'Situação do Ensino Medio', 'Nota C Naturais', 'Nota C Humanas',\n",
       "       'Nota Linguagens', 'Nota mat', 'Situacao redacao', 'Nota redacao'],\n",
       "      dtype='object')"
      ]
     },
     "execution_count": 26,
     "metadata": {},
     "output_type": "execute_result"
    }
   ],
   "source": [
    "microdata_filtered.columns"
   ]
  },
  {
   "cell_type": "markdown",
   "id": "dd8a4950-224d-4c99-aee2-de63153fb078",
   "metadata": {},
   "source": [
    "Ao usar \"fillna\" para apenas uma coluna, um aviso é gerado. Deve-se evitar o inplace=True nesses casos"
   ]
  },
  {
   "cell_type": "code",
   "execution_count": 27,
   "id": "f40420a2-4480-4769-8b4f-db5117b0007e",
   "metadata": {},
   "outputs": [
    {
     "name": "stderr",
     "output_type": "stream",
     "text": [
      "/tmp/ipykernel_2872/1306772506.py:2: FutureWarning: A value is trying to be set on a copy of a DataFrame or Series through chained assignment using an inplace method.\n",
      "The behavior will change in pandas 3.0. This inplace method will never work because the intermediate object on which we are setting values always behaves as a copy.\n",
      "\n",
      "For example, when doing 'df[col].method(value, inplace=True)', try using 'df.method({col: value}, inplace=True)' or df[col] = df[col].method(value) instead, to perform the operation inplace on the original object.\n",
      "\n",
      "\n",
      "  microdata_filtered['Nota C Naturais'].fillna(microdata_filtered['Nota C Naturais'].median(), inplace=True)\n"
     ]
    }
   ],
   "source": [
    "# Preenchimento dos dados faltantes\n",
    "microdata_filtered['Nota C Naturais'].fillna(microdata_filtered['Nota C Naturais'].median(), inplace=True)"
   ]
  },
  {
   "cell_type": "code",
   "execution_count": 28,
   "id": "425702b0-bea7-4441-9746-87077a2433b3",
   "metadata": {},
   "outputs": [
    {
     "name": "stdout",
     "output_type": "stream",
     "text": [
      "<class 'pandas.core.series.Series'>\n",
      "RangeIndex: 1000 entries, 0 to 999\n",
      "Series name: Nota C Naturais\n",
      "Non-Null Count  Dtype  \n",
      "--------------  -----  \n",
      "1000 non-null   float64\n",
      "dtypes: float64(1)\n",
      "memory usage: 7.9 KB\n"
     ]
    }
   ],
   "source": [
    "microdata_filtered['Nota C Naturais'].info()"
   ]
  },
  {
   "cell_type": "markdown",
   "id": "8bdef0dd-d827-4d82-b203-00fb41dab13c",
   "metadata": {},
   "source": [
    "O exemplo acima deu certo, porém não é indicado"
   ]
  },
  {
   "cell_type": "code",
   "execution_count": 30,
   "id": "10f93759-64a9-4490-a698-dd9e5dfa94ab",
   "metadata": {},
   "outputs": [],
   "source": [
    "microdata_filtered.fillna({'Nota C Humanas': microdata_filtered['Nota C Humanas'].median(),\n",
    "                          'Nota Linguagens': microdata_filtered['Nota Linguagens'].median(),\n",
    "                          'Nota mat': microdata_filtered['Nota mat'].median(),\n",
    "                          'Situacao redacao': microdata_filtered['Situacao redacao'].median(),\n",
    "                          'Nota redacao': microdata_filtered['Nota redacao'].median()}, inplace=True)"
   ]
  },
  {
   "cell_type": "code",
   "execution_count": 31,
   "id": "3e8976f5-5738-4af6-a0de-a822481fd8f3",
   "metadata": {},
   "outputs": [
    {
     "name": "stdout",
     "output_type": "stream",
     "text": [
      "<class 'pandas.core.frame.DataFrame'>\n",
      "RangeIndex: 1000 entries, 0 to 999\n",
      "Data columns (total 12 columns):\n",
      " #   Column                    Non-Null Count  Dtype  \n",
      "---  ------                    --------------  -----  \n",
      " 0   Ano do ENEM               1000 non-null   int64  \n",
      " 1   Estado civil              1000 non-null   int64  \n",
      " 2   Raca/cor                  1000 non-null   int64  \n",
      " 3   Sexo                      1000 non-null   object \n",
      " 4   Nacionalidade             1000 non-null   int64  \n",
      " 5   Situação do Ensino Medio  1000 non-null   int64  \n",
      " 6   Nota C Naturais           1000 non-null   float64\n",
      " 7   Nota C Humanas            1000 non-null   float64\n",
      " 8   Nota Linguagens           1000 non-null   float64\n",
      " 9   Nota mat                  1000 non-null   float64\n",
      " 10  Situacao redacao          1000 non-null   float64\n",
      " 11  Nota redacao              1000 non-null   float64\n",
      "dtypes: float64(6), int64(5), object(1)\n",
      "memory usage: 93.9+ KB\n"
     ]
    }
   ],
   "source": [
    "microdata_filtered.info()"
   ]
  },
  {
   "cell_type": "code",
   "execution_count": 32,
   "id": "74ecb9f1-27c8-4173-b1e7-0aa62886d3cd",
   "metadata": {},
   "outputs": [
    {
     "data": {
      "text/plain": [
       "np.int64(999)"
      ]
     },
     "execution_count": 32,
     "metadata": {},
     "output_type": "execute_result"
    }
   ],
   "source": [
    "# Verificação de valores duplicados na coluna Ano do ENEM\n",
    "microdata_filtered['Ano do ENEM'].duplicated().sum()"
   ]
  },
  {
   "cell_type": "code",
   "execution_count": 33,
   "id": "828046d2-ab59-43b5-9909-1c4037dc6450",
   "metadata": {},
   "outputs": [
    {
     "data": {
      "text/plain": [
       "array([2023])"
      ]
     },
     "execution_count": 33,
     "metadata": {},
     "output_type": "execute_result"
    }
   ],
   "source": [
    "microdata_filtered['Ano do ENEM'].unique()"
   ]
  },
  {
   "cell_type": "markdown",
   "id": "18f51662-95ce-4ee4-aca0-c2960c0e5801",
   "metadata": {},
   "source": [
    "A coluna \"Ano do ENEM\" possui o mesmo valor: 2023. Portanto é ineficiente mantê-la no DataFrame"
   ]
  },
  {
   "cell_type": "code",
   "execution_count": 34,
   "id": "df814304-d4d3-4f99-8371-11ddf890db80",
   "metadata": {},
   "outputs": [
    {
     "data": {
      "text/html": [
       "<div>\n",
       "<style scoped>\n",
       "    .dataframe tbody tr th:only-of-type {\n",
       "        vertical-align: middle;\n",
       "    }\n",
       "\n",
       "    .dataframe tbody tr th {\n",
       "        vertical-align: top;\n",
       "    }\n",
       "\n",
       "    .dataframe thead th {\n",
       "        text-align: right;\n",
       "    }\n",
       "</style>\n",
       "<table border=\"1\" class=\"dataframe\">\n",
       "  <thead>\n",
       "    <tr style=\"text-align: right;\">\n",
       "      <th></th>\n",
       "      <th>Estado civil</th>\n",
       "      <th>Raca/cor</th>\n",
       "      <th>Sexo</th>\n",
       "      <th>Nacionalidade</th>\n",
       "      <th>Situação do Ensino Medio</th>\n",
       "      <th>Nota C Naturais</th>\n",
       "      <th>Nota C Humanas</th>\n",
       "      <th>Nota Linguagens</th>\n",
       "      <th>Nota mat</th>\n",
       "      <th>Situacao redacao</th>\n",
       "      <th>Nota redacao</th>\n",
       "    </tr>\n",
       "  </thead>\n",
       "  <tbody>\n",
       "    <tr>\n",
       "      <th>0</th>\n",
       "      <td>2</td>\n",
       "      <td>1</td>\n",
       "      <td>M</td>\n",
       "      <td>1</td>\n",
       "      <td>1</td>\n",
       "      <td>498.7</td>\n",
       "      <td>546.1</td>\n",
       "      <td>532.1</td>\n",
       "      <td>512.2</td>\n",
       "      <td>1.0</td>\n",
       "      <td>640.0</td>\n",
       "    </tr>\n",
       "    <tr>\n",
       "      <th>1</th>\n",
       "      <td>2</td>\n",
       "      <td>1</td>\n",
       "      <td>M</td>\n",
       "      <td>0</td>\n",
       "      <td>1</td>\n",
       "      <td>498.7</td>\n",
       "      <td>546.1</td>\n",
       "      <td>532.1</td>\n",
       "      <td>512.2</td>\n",
       "      <td>1.0</td>\n",
       "      <td>640.0</td>\n",
       "    </tr>\n",
       "    <tr>\n",
       "      <th>2</th>\n",
       "      <td>1</td>\n",
       "      <td>1</td>\n",
       "      <td>F</td>\n",
       "      <td>1</td>\n",
       "      <td>1</td>\n",
       "      <td>502.0</td>\n",
       "      <td>498.9</td>\n",
       "      <td>475.6</td>\n",
       "      <td>363.2</td>\n",
       "      <td>1.0</td>\n",
       "      <td>700.0</td>\n",
       "    </tr>\n",
       "    <tr>\n",
       "      <th>3</th>\n",
       "      <td>1</td>\n",
       "      <td>3</td>\n",
       "      <td>F</td>\n",
       "      <td>1</td>\n",
       "      <td>2</td>\n",
       "      <td>459.0</td>\n",
       "      <td>508.5</td>\n",
       "      <td>507.2</td>\n",
       "      <td>466.7</td>\n",
       "      <td>1.0</td>\n",
       "      <td>880.0</td>\n",
       "    </tr>\n",
       "    <tr>\n",
       "      <th>4</th>\n",
       "      <td>1</td>\n",
       "      <td>3</td>\n",
       "      <td>F</td>\n",
       "      <td>1</td>\n",
       "      <td>2</td>\n",
       "      <td>402.5</td>\n",
       "      <td>379.2</td>\n",
       "      <td>446.9</td>\n",
       "      <td>338.3</td>\n",
       "      <td>1.0</td>\n",
       "      <td>560.0</td>\n",
       "    </tr>\n",
       "    <tr>\n",
       "      <th>...</th>\n",
       "      <td>...</td>\n",
       "      <td>...</td>\n",
       "      <td>...</td>\n",
       "      <td>...</td>\n",
       "      <td>...</td>\n",
       "      <td>...</td>\n",
       "      <td>...</td>\n",
       "      <td>...</td>\n",
       "      <td>...</td>\n",
       "      <td>...</td>\n",
       "      <td>...</td>\n",
       "    </tr>\n",
       "    <tr>\n",
       "      <th>995</th>\n",
       "      <td>1</td>\n",
       "      <td>1</td>\n",
       "      <td>F</td>\n",
       "      <td>1</td>\n",
       "      <td>1</td>\n",
       "      <td>550.7</td>\n",
       "      <td>538.3</td>\n",
       "      <td>533.4</td>\n",
       "      <td>640.2</td>\n",
       "      <td>1.0</td>\n",
       "      <td>560.0</td>\n",
       "    </tr>\n",
       "    <tr>\n",
       "      <th>996</th>\n",
       "      <td>1</td>\n",
       "      <td>4</td>\n",
       "      <td>F</td>\n",
       "      <td>1</td>\n",
       "      <td>1</td>\n",
       "      <td>445.1</td>\n",
       "      <td>397.2</td>\n",
       "      <td>509.7</td>\n",
       "      <td>338.7</td>\n",
       "      <td>1.0</td>\n",
       "      <td>540.0</td>\n",
       "    </tr>\n",
       "    <tr>\n",
       "      <th>997</th>\n",
       "      <td>1</td>\n",
       "      <td>1</td>\n",
       "      <td>F</td>\n",
       "      <td>1</td>\n",
       "      <td>1</td>\n",
       "      <td>480.1</td>\n",
       "      <td>543.9</td>\n",
       "      <td>518.8</td>\n",
       "      <td>427.9</td>\n",
       "      <td>1.0</td>\n",
       "      <td>660.0</td>\n",
       "    </tr>\n",
       "    <tr>\n",
       "      <th>998</th>\n",
       "      <td>1</td>\n",
       "      <td>1</td>\n",
       "      <td>F</td>\n",
       "      <td>1</td>\n",
       "      <td>1</td>\n",
       "      <td>498.7</td>\n",
       "      <td>411.6</td>\n",
       "      <td>467.0</td>\n",
       "      <td>512.2</td>\n",
       "      <td>1.0</td>\n",
       "      <td>480.0</td>\n",
       "    </tr>\n",
       "    <tr>\n",
       "      <th>999</th>\n",
       "      <td>1</td>\n",
       "      <td>2</td>\n",
       "      <td>F</td>\n",
       "      <td>1</td>\n",
       "      <td>1</td>\n",
       "      <td>504.3</td>\n",
       "      <td>459.2</td>\n",
       "      <td>585.7</td>\n",
       "      <td>634.8</td>\n",
       "      <td>1.0</td>\n",
       "      <td>860.0</td>\n",
       "    </tr>\n",
       "  </tbody>\n",
       "</table>\n",
       "<p>1000 rows × 11 columns</p>\n",
       "</div>"
      ],
      "text/plain": [
       "     Estado civil  Raca/cor Sexo  Nacionalidade  Situação do Ensino Medio  \\\n",
       "0               2         1    M              1                         1   \n",
       "1               2         1    M              0                         1   \n",
       "2               1         1    F              1                         1   \n",
       "3               1         3    F              1                         2   \n",
       "4               1         3    F              1                         2   \n",
       "..            ...       ...  ...            ...                       ...   \n",
       "995             1         1    F              1                         1   \n",
       "996             1         4    F              1                         1   \n",
       "997             1         1    F              1                         1   \n",
       "998             1         1    F              1                         1   \n",
       "999             1         2    F              1                         1   \n",
       "\n",
       "     Nota C Naturais  Nota C Humanas  Nota Linguagens  Nota mat  \\\n",
       "0              498.7           546.1            532.1     512.2   \n",
       "1              498.7           546.1            532.1     512.2   \n",
       "2              502.0           498.9            475.6     363.2   \n",
       "3              459.0           508.5            507.2     466.7   \n",
       "4              402.5           379.2            446.9     338.3   \n",
       "..               ...             ...              ...       ...   \n",
       "995            550.7           538.3            533.4     640.2   \n",
       "996            445.1           397.2            509.7     338.7   \n",
       "997            480.1           543.9            518.8     427.9   \n",
       "998            498.7           411.6            467.0     512.2   \n",
       "999            504.3           459.2            585.7     634.8   \n",
       "\n",
       "     Situacao redacao  Nota redacao  \n",
       "0                 1.0         640.0  \n",
       "1                 1.0         640.0  \n",
       "2                 1.0         700.0  \n",
       "3                 1.0         880.0  \n",
       "4                 1.0         560.0  \n",
       "..                ...           ...  \n",
       "995               1.0         560.0  \n",
       "996               1.0         540.0  \n",
       "997               1.0         660.0  \n",
       "998               1.0         480.0  \n",
       "999               1.0         860.0  \n",
       "\n",
       "[1000 rows x 11 columns]"
      ]
     },
     "execution_count": 34,
     "metadata": {},
     "output_type": "execute_result"
    }
   ],
   "source": [
    "microdata_filtered.drop(columns=['Ano do ENEM'])"
   ]
  },
  {
   "cell_type": "markdown",
   "id": "ee22b658-492a-47d4-a342-84b45531d116",
   "metadata": {},
   "source": [
    "Abaixo, o objetivo é identificar outliers com boxplot e scatterplot"
   ]
  },
  {
   "cell_type": "code",
   "execution_count": 36,
   "id": "06ac682a-fe5c-4c30-93aa-971e4734eb9d",
   "metadata": {},
   "outputs": [
    {
     "data": {
      "text/plain": [
       "{'whiskers': [<matplotlib.lines.Line2D at 0x75aa4cca85b0>,\n",
       "  <matplotlib.lines.Line2D at 0x75aa4cca9ed0>],\n",
       " 'caps': [<matplotlib.lines.Line2D at 0x75aa4ccaa8f0>,\n",
       "  <matplotlib.lines.Line2D at 0x75aa4cca85e0>],\n",
       " 'boxes': [<matplotlib.lines.Line2D at 0x75aa4cca9d20>],\n",
       " 'medians': [<matplotlib.lines.Line2D at 0x75aa4ccaabc0>],\n",
       " 'fliers': [<matplotlib.lines.Line2D at 0x75aa4cca9750>],\n",
       " 'means': []}"
      ]
     },
     "execution_count": 36,
     "metadata": {},
     "output_type": "execute_result"
    },
    {
     "data": {
      "image/png": "[encoded data removed]",
      "text/plain": [
       "<Figure size 640x480 with 1 Axes>"
      ]
     },
     "metadata": {},
     "output_type": "display_data"
    }
   ],
   "source": [
    "plt.boxplot(data=microdata_filtered, x='Nota C Naturais')"
   ]
  },
  {
   "cell_type": "code",
   "execution_count": 38,
   "id": "e668b28b-e8ca-45dc-b12a-fd0d9614c249",
   "metadata": {},
   "outputs": [
    {
     "data": {
      "text/plain": [
       "{'whiskers': [<matplotlib.lines.Line2D at 0x75aa4cb51420>,\n",
       "  <matplotlib.lines.Line2D at 0x75aa4cb51660>],\n",
       " 'caps': [<matplotlib.lines.Line2D at 0x75aa4cb539d0>,\n",
       "  <matplotlib.lines.Line2D at 0x75aa4cb50970>],\n",
       " 'boxes': [<matplotlib.lines.Line2D at 0x75aa4cb51270>],\n",
       " 'medians': [<matplotlib.lines.Line2D at 0x75aa4cb50700>],\n",
       " 'fliers': [<matplotlib.lines.Line2D at 0x75aa4cb51990>],\n",
       " 'means': []}"
      ]
     },
     "execution_count": 38,
     "metadata": {},
     "output_type": "execute_result"
    },
    {
     "data": {
      "image/png": "[encoded data removed]",
      "text/plain": [
       "<Figure size 640x480 with 1 Axes>"
      ]
     },
     "metadata": {},
     "output_type": "display_data"
    }
   ],
   "source": [
    "plt.boxplot(data=microdata_filtered, x='Nota C Humanas')"
   ]
  }
 ],
 "metadata": {
  "kernelspec": {
   "display_name": "Python 3 (ipykernel)",
   "language": "python",
   "name": "python3"
  },
  "language_info": {
   "codemirror_mode": {
    "name": "ipython",
    "version": 3
   },
   "file_extension": ".py",
   "mimetype": "text/x-python",
   "name": "python",
   "nbconvert_exporter": "python",
   "pygments_lexer": "ipython3",
   "version": "3.10.12"
  }
 },
 "nbformat": 4,
 "nbformat_minor": 5
}
