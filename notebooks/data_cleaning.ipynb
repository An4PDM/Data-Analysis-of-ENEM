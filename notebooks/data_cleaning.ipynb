{
 "cells": [
  {
   "cell_type": "code",
   "execution_count": 1,
   "id": "03094b86-4f93-414b-9d3e-396e2998be0d",
   "metadata": {},
   "outputs": [],
   "source": [
    "import pandas as pd\n",
    "import numpy as np\n",
    "from pprint import pprint"
   ]
  },
  {
   "cell_type": "code",
   "execution_count": 11,
   "id": "f8e606bf-8b87-4942-92de-fb994367eb5c",
   "metadata": {},
   "outputs": [],
   "source": [
    "microdata = pd.read_csv('../data/MICRODADOS_ENEM_2023.csv', sep=';', encoding='latin1', nrows=1000)"
   ]
  },
  {
   "cell_type": "code",
   "execution_count": 11,
   "id": "161bf453-af9d-451c-a3fa-ebc72ac28501",
   "metadata": {},
   "outputs": [],
   "source": [
    "items_data = pd.read_csv('../data/ITENS_PROVA_2023.csv', sep=';', encoding='latin1', nrows=1000)"
   ]
  },
  {
   "cell_type": "markdown",
   "id": "7c166a04-5f76-42a2-954c-2d747ae2628e",
   "metadata": {},
   "source": [
    "Os arquivos foram salvos em pickle para maior eficiencia de carregamento, evitando travamentos."
   ]
  },
  {
   "cell_type": "code",
   "execution_count": 101,
   "id": "d661b3b5-f2f4-4e5e-97c6-c93d6f96d4de",
   "metadata": {},
   "outputs": [],
   "source": [
    "microdata.to_pickle('../data/enem_2023.pkl') \n",
    "items_data.to_pickle('../data/items_data.pkl')\n",
    "dict_microdata.to_pickle('../data/dictionary/dict_microdata.pkl')"
   ]
  },
  {
   "cell_type": "code",
   "execution_count": 8,
   "id": "19962faa-8ca8-4811-bb9f-d1d44066cdd2",
   "metadata": {},
   "outputs": [],
   "source": [
    "microdata = pd.read_pickle('../data/enem_2023.pkl')"
   ]
  },
  {
   "cell_type": "code",
   "execution_count": null,
   "id": "b566e78f-acca-44e8-a193-ff8c45a58fa6",
   "metadata": {},
   "outputs": [],
   "source": [
    "items_data = pd.read_pickle('../data/items_data.pkl')"
   ]
  },
  {
   "cell_type": "code",
   "execution_count": null,
   "id": "e9a08344-1cc9-4f0f-ac4a-7b6f221e550c",
   "metadata": {},
   "outputs": [],
   "source": [
    "dict_microdata = pd.read_pickle('../data/dictionary/dict_microdata.pkl')"
   ]
  },
  {
   "cell_type": "markdown",
   "id": "a91c2056-e63b-4c41-889e-5bb4808c49e1",
   "metadata": {},
   "source": [
    "Os dados do arquivo de dicionário estão organizados em formato \"expandido verticalmente\". Isso dificulta o entendimento em análise de dados, portanto é necessário organizar as informações em dicionários para cada variável."
   ]
  },
  {
   "cell_type": "code",
   "execution_count": 13,
   "id": "d03dfb55-b208-492a-bffd-c165c9b92528",
   "metadata": {},
   "outputs": [],
   "source": [
    "# Dicionarios normalmente tem mais de uma aba, por isso deve-se ler o arquivo da seguinte forma:\n",
    "dict_xls = pd.ExcelFile('../data/dictionary/Dicionário_Microdados_Enem_2023.xlsx')"
   ]
  },
  {
   "cell_type": "code",
   "execution_count": 14,
   "id": "e95590b6-6aff-4dfa-ba42-cdf906d58bc5",
   "metadata": {},
   "outputs": [
    {
     "data": {
      "text/plain": [
       "['MICRODADOS_ENEM_2023', 'ITENS_PROVA_2023']"
      ]
     },
     "execution_count": 14,
     "metadata": {},
     "output_type": "execute_result"
    }
   ],
   "source": [
    "# Nome das abas\n",
    "dict_xls.sheet_names"
   ]
  },
  {
   "cell_type": "code",
   "execution_count": 28,
   "id": "52e147d6-b7d5-4e56-9b85-8d660af8f6f7",
   "metadata": {},
   "outputs": [
    {
     "data": {
      "text/plain": [
       "Index(['DICIONÁRIO DE VARIÁVEIS - ENEM 2023', 'Unnamed: 1', 'Unnamed: 2',\n",
       "       'Unnamed: 3', 'Unnamed: 4', 'Unnamed: 5'],\n",
       "      dtype='object')"
      ]
     },
     "execution_count": 28,
     "metadata": {},
     "output_type": "execute_result"
    }
   ],
   "source": [
    "dict_microdata = pd.read_excel(dict_xls, sheet_name='MICRODADOS_ENEM_2023')\n",
    "dict_microdata.columns # Percebe-se que o cabeçalho não apresenta os nomes das colunas"
   ]
  },
  {
   "cell_type": "code",
   "execution_count": 29,
   "id": "8d168882-7dcc-4de4-8e0b-c45c38db38ac",
   "metadata": {},
   "outputs": [
    {
     "data": {
      "text/html": [
       "<div>\n",
       "<style scoped>\n",
       "    .dataframe tbody tr th:only-of-type {\n",
       "        vertical-align: middle;\n",
       "    }\n",
       "\n",
       "    .dataframe tbody tr th {\n",
       "        vertical-align: top;\n",
       "    }\n",
       "\n",
       "    .dataframe thead th {\n",
       "        text-align: right;\n",
       "    }\n",
       "</style>\n",
       "<table border=\"1\" class=\"dataframe\">\n",
       "  <thead>\n",
       "    <tr style=\"text-align: right;\">\n",
       "      <th></th>\n",
       "      <th>DICIONÁRIO DE VARIÁVEIS - ENEM 2023</th>\n",
       "      <th>Unnamed: 1</th>\n",
       "      <th>Unnamed: 2</th>\n",
       "      <th>Unnamed: 3</th>\n",
       "      <th>Unnamed: 4</th>\n",
       "      <th>Unnamed: 5</th>\n",
       "    </tr>\n",
       "  </thead>\n",
       "  <tbody>\n",
       "    <tr>\n",
       "      <th>0</th>\n",
       "      <td>NaN</td>\n",
       "      <td>NaN</td>\n",
       "      <td>NaN</td>\n",
       "      <td>NaN</td>\n",
       "      <td>NaN</td>\n",
       "      <td>NaN</td>\n",
       "    </tr>\n",
       "    <tr>\n",
       "      <th>1</th>\n",
       "      <td>NOME DA VARIÁVEL</td>\n",
       "      <td>Descrição</td>\n",
       "      <td>Variáveis Categóricas</td>\n",
       "      <td>NaN</td>\n",
       "      <td>Tamanho</td>\n",
       "      <td>Tipo</td>\n",
       "    </tr>\n",
       "    <tr>\n",
       "      <th>2</th>\n",
       "      <td>NaN</td>\n",
       "      <td>NaN</td>\n",
       "      <td>Categoria</td>\n",
       "      <td>Descrição</td>\n",
       "      <td>NaN</td>\n",
       "      <td>NaN</td>\n",
       "    </tr>\n",
       "    <tr>\n",
       "      <th>3</th>\n",
       "      <td>DADOS DO PARTICIPANTE</td>\n",
       "      <td>NaN</td>\n",
       "      <td>NaN</td>\n",
       "      <td>NaN</td>\n",
       "      <td>NaN</td>\n",
       "      <td>NaN</td>\n",
       "    </tr>\n",
       "    <tr>\n",
       "      <th>4</th>\n",
       "      <td>NU_INSCRICAO</td>\n",
       "      <td>Número de inscrição1</td>\n",
       "      <td>NaN</td>\n",
       "      <td>NaN</td>\n",
       "      <td>12</td>\n",
       "      <td>Numérica</td>\n",
       "    </tr>\n",
       "    <tr>\n",
       "      <th>5</th>\n",
       "      <td>NU_ANO</td>\n",
       "      <td>Ano do Enem</td>\n",
       "      <td>NaN</td>\n",
       "      <td>NaN</td>\n",
       "      <td>4</td>\n",
       "      <td>Numérica</td>\n",
       "    </tr>\n",
       "    <tr>\n",
       "      <th>6</th>\n",
       "      <td>TP_FAIXA_ETARIA</td>\n",
       "      <td>Faixa etária2</td>\n",
       "      <td>1</td>\n",
       "      <td>Menor de 17 anos</td>\n",
       "      <td>2</td>\n",
       "      <td>Numérica</td>\n",
       "    </tr>\n",
       "    <tr>\n",
       "      <th>7</th>\n",
       "      <td>NaN</td>\n",
       "      <td>NaN</td>\n",
       "      <td>2</td>\n",
       "      <td>17 anos</td>\n",
       "      <td>NaN</td>\n",
       "      <td>NaN</td>\n",
       "    </tr>\n",
       "    <tr>\n",
       "      <th>8</th>\n",
       "      <td>NaN</td>\n",
       "      <td>NaN</td>\n",
       "      <td>3</td>\n",
       "      <td>18 anos</td>\n",
       "      <td>NaN</td>\n",
       "      <td>NaN</td>\n",
       "    </tr>\n",
       "    <tr>\n",
       "      <th>9</th>\n",
       "      <td>NaN</td>\n",
       "      <td>NaN</td>\n",
       "      <td>4</td>\n",
       "      <td>19 anos</td>\n",
       "      <td>NaN</td>\n",
       "      <td>NaN</td>\n",
       "    </tr>\n",
       "  </tbody>\n",
       "</table>\n",
       "</div>"
      ],
      "text/plain": [
       "  DICIONÁRIO DE VARIÁVEIS - ENEM 2023             Unnamed: 1  \\\n",
       "0                                 NaN                    NaN   \n",
       "1                    NOME DA VARIÁVEL              Descrição   \n",
       "2                                 NaN                    NaN   \n",
       "3               DADOS DO PARTICIPANTE                    NaN   \n",
       "4                        NU_INSCRICAO  Número de inscrição1    \n",
       "5                              NU_ANO            Ano do Enem   \n",
       "6                     TP_FAIXA_ETARIA          Faixa etária2   \n",
       "7                                 NaN                    NaN   \n",
       "8                                 NaN                    NaN   \n",
       "9                                 NaN                    NaN   \n",
       "\n",
       "              Unnamed: 2        Unnamed: 3 Unnamed: 4 Unnamed: 5  \n",
       "0                    NaN               NaN        NaN        NaN  \n",
       "1  Variáveis Categóricas               NaN   Tamanho        Tipo  \n",
       "2              Categoria         Descrição        NaN        NaN  \n",
       "3                    NaN               NaN        NaN        NaN  \n",
       "4                    NaN               NaN         12   Numérica  \n",
       "5                    NaN               NaN          4   Numérica  \n",
       "6                      1  Menor de 17 anos          2   Numérica  \n",
       "7                      2           17 anos        NaN        NaN  \n",
       "8                      3           18 anos        NaN        NaN  \n",
       "9                      4           19 anos        NaN        NaN  "
      ]
     },
     "execution_count": 29,
     "metadata": {},
     "output_type": "execute_result"
    }
   ],
   "source": [
    "# Verificação dos nomes das colunas\n",
    "dict_microdata.head(10)"
   ]
  },
  {
   "cell_type": "markdown",
   "id": "b01334e0-a3d3-4ee0-a410-1c8d1cfe80e0",
   "metadata": {},
   "source": [
    "O dicionário de microdados está em formato vertical expandido, o que dificulta a leitura. Portanto foi necessário alterá-lo para um dicionário de dicionários."
   ]
  },
  {
   "cell_type": "code",
   "execution_count": 30,
   "id": "b6fd59c1-be87-4c74-889b-5a18d11a5ccb",
   "metadata": {},
   "outputs": [],
   "source": [
    "# Renomeando as colunas do dict\n",
    "dict_microdata = dict_microdata.rename(columns={\n",
    "    'Unnamed: 1': 'Descrição',\n",
    "    'Unnamed: 2': 'Variáveis Categóricas',\n",
    "    'Unnamed: 3': 'Categoria',\n",
    "    'Unnamed: 4':  'Tamanho',\n",
    "    'Unnamed: 5': 'Tipo'\n",
    "})"
   ]
  },
  {
   "cell_type": "code",
   "execution_count": 65,
   "id": "9c578fab-ae4d-45c5-bdae-1ce59a7654aa",
   "metadata": {},
   "outputs": [
    {
     "data": {
      "text/html": [
       "<div>\n",
       "<style scoped>\n",
       "    .dataframe tbody tr th:only-of-type {\n",
       "        vertical-align: middle;\n",
       "    }\n",
       "\n",
       "    .dataframe tbody tr th {\n",
       "        vertical-align: top;\n",
       "    }\n",
       "\n",
       "    .dataframe thead th {\n",
       "        text-align: right;\n",
       "    }\n",
       "</style>\n",
       "<table border=\"1\" class=\"dataframe\">\n",
       "  <thead>\n",
       "    <tr style=\"text-align: right;\">\n",
       "      <th></th>\n",
       "      <th>DICIONÁRIO DE VARIÁVEIS - ENEM 2023</th>\n",
       "      <th>Descrição</th>\n",
       "      <th>Variáveis Categóricas</th>\n",
       "      <th>Categoria</th>\n",
       "      <th>Tamanho</th>\n",
       "      <th>Tipo</th>\n",
       "    </tr>\n",
       "  </thead>\n",
       "  <tbody>\n",
       "    <tr>\n",
       "      <th>0</th>\n",
       "      <td>NaN</td>\n",
       "      <td>NaN</td>\n",
       "      <td>NaN</td>\n",
       "      <td>NaN</td>\n",
       "      <td>NaN</td>\n",
       "      <td>NaN</td>\n",
       "    </tr>\n",
       "    <tr>\n",
       "      <th>1</th>\n",
       "      <td>NOME DA VARIÁVEL</td>\n",
       "      <td>Descrição</td>\n",
       "      <td>Variáveis Categóricas</td>\n",
       "      <td>NaN</td>\n",
       "      <td>Tamanho</td>\n",
       "      <td>Tipo</td>\n",
       "    </tr>\n",
       "    <tr>\n",
       "      <th>2</th>\n",
       "      <td>NaN</td>\n",
       "      <td>NaN</td>\n",
       "      <td>Categoria</td>\n",
       "      <td>Descrição</td>\n",
       "      <td>NaN</td>\n",
       "      <td>NaN</td>\n",
       "    </tr>\n",
       "    <tr>\n",
       "      <th>3</th>\n",
       "      <td>DADOS DO PARTICIPANTE</td>\n",
       "      <td>NaN</td>\n",
       "      <td>NaN</td>\n",
       "      <td>NaN</td>\n",
       "      <td>NaN</td>\n",
       "      <td>NaN</td>\n",
       "    </tr>\n",
       "    <tr>\n",
       "      <th>4</th>\n",
       "      <td>NU_INSCRICAO</td>\n",
       "      <td>Número de inscrição1</td>\n",
       "      <td>NaN</td>\n",
       "      <td>NaN</td>\n",
       "      <td>12</td>\n",
       "      <td>Numérica</td>\n",
       "    </tr>\n",
       "  </tbody>\n",
       "</table>\n",
       "</div>"
      ],
      "text/plain": [
       "  DICIONÁRIO DE VARIÁVEIS - ENEM 2023              Descrição  \\\n",
       "0                                 NaN                    NaN   \n",
       "1                    NOME DA VARIÁVEL              Descrição   \n",
       "2                                 NaN                    NaN   \n",
       "3               DADOS DO PARTICIPANTE                    NaN   \n",
       "4                        NU_INSCRICAO  Número de inscrição1    \n",
       "\n",
       "   Variáveis Categóricas  Categoria   Tamanho      Tipo  \n",
       "0                    NaN        NaN       NaN       NaN  \n",
       "1  Variáveis Categóricas        NaN  Tamanho       Tipo  \n",
       "2              Categoria  Descrição       NaN       NaN  \n",
       "3                    NaN        NaN       NaN       NaN  \n",
       "4                    NaN        NaN        12  Numérica  "
      ]
     },
     "execution_count": 65,
     "metadata": {},
     "output_type": "execute_result"
    }
   ],
   "source": [
    "dict_microdata.head()"
   ]
  },
  {
   "cell_type": "code",
   "execution_count": 96,
   "id": "a304a892-289b-443a-8830-0054bf451b9d",
   "metadata": {},
   "outputs": [],
   "source": [
    "filtro = dict_microdata['Categoria'].str.contains('Pública',case=False, na=False)"
   ]
  },
  {
   "cell_type": "code",
   "execution_count": 97,
   "id": "7dc31301-0c36-427a-8e1f-47ed3e16e39f",
   "metadata": {},
   "outputs": [
    {
     "data": {
      "text/html": [
       "<div>\n",
       "<style scoped>\n",
       "    .dataframe tbody tr th:only-of-type {\n",
       "        vertical-align: middle;\n",
       "    }\n",
       "\n",
       "    .dataframe tbody tr th {\n",
       "        vertical-align: top;\n",
       "    }\n",
       "\n",
       "    .dataframe thead th {\n",
       "        text-align: right;\n",
       "    }\n",
       "</style>\n",
       "<table border=\"1\" class=\"dataframe\">\n",
       "  <thead>\n",
       "    <tr style=\"text-align: right;\">\n",
       "      <th></th>\n",
       "      <th>Categoria</th>\n",
       "      <th>Variáveis Categóricas</th>\n",
       "    </tr>\n",
       "  </thead>\n",
       "  <tbody>\n",
       "    <tr>\n",
       "      <th>68</th>\n",
       "      <td>Pública</td>\n",
       "      <td>2</td>\n",
       "    </tr>\n",
       "    <tr>\n",
       "      <th>217</th>\n",
       "      <td>Grupo 5: Médico, engenheiro, dentista, psicólo...</td>\n",
       "      <td>E</td>\n",
       "    </tr>\n",
       "    <tr>\n",
       "      <th>223</th>\n",
       "      <td>Grupo 5: Médica, engenheira, dentista, psicólo...</td>\n",
       "      <td>E</td>\n",
       "    </tr>\n",
       "  </tbody>\n",
       "</table>\n",
       "</div>"
      ],
      "text/plain": [
       "                                             Categoria Variáveis Categóricas\n",
       "68                                             Pública                     2\n",
       "217  Grupo 5: Médico, engenheiro, dentista, psicólo...                     E\n",
       "223  Grupo 5: Médica, engenheira, dentista, psicólo...                     E"
      ]
     },
     "execution_count": 97,
     "metadata": {},
     "output_type": "execute_result"
    }
   ],
   "source": [
    "dict_microdata.loc[filtro, ['Categoria','Variáveis Categóricas']]"
   ]
  },
  {
   "cell_type": "code",
   "execution_count": 98,
   "id": "eee6c800-d4c8-408b-b956-a175378fa2a6",
   "metadata": {},
   "outputs": [
    {
     "data": {
      "text/plain": [
       "Index(['NU_INSCRICAO', 'NU_ANO', 'TP_FAIXA_ETARIA', 'TP_SEXO',\n",
       "       'TP_ESTADO_CIVIL', 'TP_COR_RACA', 'TP_NACIONALIDADE', 'TP_ST_CONCLUSAO',\n",
       "       'TP_ANO_CONCLUIU', 'TP_ESCOLA', 'TP_ENSINO', 'IN_TREINEIRO',\n",
       "       'CO_MUNICIPIO_ESC', 'NO_MUNICIPIO_ESC', 'CO_UF_ESC', 'SG_UF_ESC',\n",
       "       'TP_DEPENDENCIA_ADM_ESC', 'TP_LOCALIZACAO_ESC', 'TP_SIT_FUNC_ESC',\n",
       "       'CO_MUNICIPIO_PROVA', 'NO_MUNICIPIO_PROVA', 'CO_UF_PROVA',\n",
       "       'SG_UF_PROVA', 'TP_PRESENCA_CN', 'TP_PRESENCA_CH', 'TP_PRESENCA_LC',\n",
       "       'TP_PRESENCA_MT', 'CO_PROVA_CN', 'CO_PROVA_CH', 'CO_PROVA_LC',\n",
       "       'CO_PROVA_MT', 'NU_NOTA_CN', 'NU_NOTA_CH', 'NU_NOTA_LC', 'NU_NOTA_MT',\n",
       "       'TX_RESPOSTAS_CN', 'TX_RESPOSTAS_CH', 'TX_RESPOSTAS_LC',\n",
       "       'TX_RESPOSTAS_MT', 'TP_LINGUA', 'TX_GABARITO_CN', 'TX_GABARITO_CH',\n",
       "       'TX_GABARITO_LC', 'TX_GABARITO_MT', 'TP_STATUS_REDACAO',\n",
       "       'NU_NOTA_COMP1', 'NU_NOTA_COMP2', 'NU_NOTA_COMP3', 'NU_NOTA_COMP4',\n",
       "       'NU_NOTA_COMP5', 'NU_NOTA_REDACAO', 'Q001', 'Q002', 'Q003', 'Q004',\n",
       "       'Q005', 'Q006', 'Q007', 'Q008', 'Q009', 'Q010', 'Q011', 'Q012', 'Q013',\n",
       "       'Q014', 'Q015', 'Q016', 'Q017', 'Q018', 'Q019', 'Q020', 'Q021', 'Q022',\n",
       "       'Q023', 'Q024', 'Q025'],\n",
       "      dtype='object')"
      ]
     },
     "execution_count": 98,
     "metadata": {},
     "output_type": "execute_result"
    }
   ],
   "source": [
    "microdata.columns"
   ]
  },
  {
   "cell_type": "code",
   "execution_count": 99,
   "id": "d3e5393c-a913-415d-8da0-a14e5bc73655",
   "metadata": {},
   "outputs": [],
   "source": [
    "filtro_column = dict_microdata['DICIONÁRIO DE VARIÁVEIS - ENEM 2023'].str.contains('TP_PRESENCA_MT', case=False, na=False)"
   ]
  },
  {
   "cell_type": "code",
   "execution_count": 100,
   "id": "6a40ba13-cef8-4cc4-aac0-5bd78870850b",
   "metadata": {},
   "outputs": [
    {
     "data": {
      "text/html": [
       "<div>\n",
       "<style scoped>\n",
       "    .dataframe tbody tr th:only-of-type {\n",
       "        vertical-align: middle;\n",
       "    }\n",
       "\n",
       "    .dataframe tbody tr th {\n",
       "        vertical-align: top;\n",
       "    }\n",
       "\n",
       "    .dataframe thead th {\n",
       "        text-align: right;\n",
       "    }\n",
       "</style>\n",
       "<table border=\"1\" class=\"dataframe\">\n",
       "  <thead>\n",
       "    <tr style=\"text-align: right;\">\n",
       "      <th></th>\n",
       "      <th>Descrição</th>\n",
       "    </tr>\n",
       "  </thead>\n",
       "  <tbody>\n",
       "    <tr>\n",
       "      <th>112</th>\n",
       "      <td>Presença na prova objetiva de Matemática</td>\n",
       "    </tr>\n",
       "  </tbody>\n",
       "</table>\n",
       "</div>"
      ],
      "text/plain": [
       "                                    Descrição\n",
       "112  Presença na prova objetiva de Matemática"
      ]
     },
     "execution_count": 100,
     "metadata": {},
     "output_type": "execute_result"
    }
   ],
   "source": [
    "dict_microdata.loc[filtro_column, ['Descrição']]"
   ]
  },
  {
   "cell_type": "markdown",
   "id": "ff505cc7-1242-4fa8-a1d3-0dae7a43c9cd",
   "metadata": {},
   "source": [
    "Será feito o mapeamento para as seguintes variáveis categóricas: TP_ENSINO, TP_COR_RACA, TP_LOCALIZACAO\n",
    "\n",
    "    * Mudar o nome das colunas da tabela de microdados para nomes explicativos"
   ]
  }
 ],
 "metadata": {
  "kernelspec": {
   "display_name": "Python 3 (ipykernel)",
   "language": "python",
   "name": "python3"
  },
  "language_info": {
   "codemirror_mode": {
    "name": "ipython",
    "version": 3
   },
   "file_extension": ".py",
   "mimetype": "text/x-python",
   "name": "python",
   "nbconvert_exporter": "python",
   "pygments_lexer": "ipython3",
   "version": "3.10.12"
  }
 },
 "nbformat": 4,
 "nbformat_minor": 5
}
