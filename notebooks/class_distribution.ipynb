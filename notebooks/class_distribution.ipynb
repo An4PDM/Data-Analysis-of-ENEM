{
 "cells": [
  {
   "cell_type": "markdown",
   "id": "204b4767-2d46-47ad-b7e1-3d8cd0cc44c3",
   "metadata": {},
   "source": [
    "**Objetivo**: Analisar os microdados do ENEM com base em classes e distribuição de frequência."
   ]
  },
  {
   "cell_type": "code",
   "execution_count": 1,
   "id": "35f22033-90cc-434e-90b2-99b2c127ac37",
   "metadata": {},
   "outputs": [],
   "source": [
    "import pandas as pd\n",
    "import matplotlib.pyplot as plt\n",
    "import seaborn as sns"
   ]
  },
  {
   "cell_type": "code",
   "execution_count": 18,
   "id": "6a156248-d7e7-4b22-abfd-fe121dbdc021",
   "metadata": {},
   "outputs": [],
   "source": [
    "# Carregamento do df completo - colunas especificas\n",
    "cols = ['NU_NOTA_CN', 'NU_NOTA_CH', 'NU_NOTA_LC', 'NU_NOTA_MT', 'NU_NOTA_REDACAO', 'TP_ESCOLA']\n",
    "df = pd.read_csv('../data/MICRODADOS_ENEM_2023.csv', usecols=cols, nrows=10000, encoding='latin1', sep=';').dropna()"
   ]
  },
  {
   "cell_type": "code",
   "execution_count": 19,
   "id": "8fe7556d-ff10-44de-a067-a08e1f8ba59b",
   "metadata": {},
   "outputs": [
    {
     "name": "stdout",
     "output_type": "stream",
     "text": [
      "<class 'pandas.core.frame.DataFrame'>\n",
      "Index: 7257 entries, 2 to 9999\n",
      "Data columns (total 6 columns):\n",
      " #   Column           Non-Null Count  Dtype  \n",
      "---  ------           --------------  -----  \n",
      " 0   TP_ESCOLA        7257 non-null   int64  \n",
      " 1   NU_NOTA_CN       7257 non-null   float64\n",
      " 2   NU_NOTA_CH       7257 non-null   float64\n",
      " 3   NU_NOTA_LC       7257 non-null   float64\n",
      " 4   NU_NOTA_MT       7257 non-null   float64\n",
      " 5   NU_NOTA_REDACAO  7257 non-null   float64\n",
      "dtypes: float64(5), int64(1)\n",
      "memory usage: 396.9 KB\n"
     ]
    }
   ],
   "source": [
    "# Carregamento de amostra e remoção de valores ausentes\n",
    "df.info()"
   ]
  },
  {
   "cell_type": "code",
   "execution_count": 20,
   "id": "b86ea73d-d4e7-4df5-972a-b1bb47bf3768",
   "metadata": {},
   "outputs": [],
   "source": [
    "# Criação das classes\n",
    "bins = [0,100,200,300,400,500,600,700,800,900,1001] # limites das classes \n",
    "labels = ['0–99', '100–199', '200–299', '300–399', '400–499','500–599', '600–699', '700–799', '800–899', '900–1000']"
   ]
  },
  {
   "cell_type": "code",
   "execution_count": 25,
   "id": "048eba37-0e0e-4c8b-894d-ae34220dd411",
   "metadata": {},
   "outputs": [],
   "source": [
    "df['Faixa'] = pd.cut(df['NU_NOTA_CN'], bins=bins, labels=labels, right=False, include_lowest=True)"
   ]
  },
  {
   "cell_type": "code",
   "execution_count": 26,
   "id": "c4676a03-2377-4102-a122-e52489ce85f2",
   "metadata": {},
   "outputs": [
    {
     "data": {
      "text/plain": [
       "['500–599', '400–499', '600–699', '700–799', '300–399', '0–99', '800–899']\n",
       "Categories (10, object): ['0–99' < '100–199' < '200–299' < '300–399' ... '600–699' < '700–799' < '800–899' < '900–1000']"
      ]
     },
     "execution_count": 26,
     "metadata": {},
     "output_type": "execute_result"
    }
   ],
   "source": [
    "df['Faixa'].unique()"
   ]
  },
  {
   "cell_type": "code",
   "execution_count": 27,
   "id": "c9990a22-7d5e-493b-ab60-114630d1a6ad",
   "metadata": {},
   "outputs": [],
   "source": [
    "# Cálculo de frequência\n",
    "freq = df['Faixa'].value_counts(sort=False)\n",
    "freq_acumulada = freq.cumsum()"
   ]
  },
  {
   "cell_type": "code",
   "execution_count": 28,
   "id": "3f710149-a650-49fc-a83d-6fac90e84b41",
   "metadata": {},
   "outputs": [
    {
     "data": {
      "text/html": [
       "<div>\n",
       "<style scoped>\n",
       "    .dataframe tbody tr th:only-of-type {\n",
       "        vertical-align: middle;\n",
       "    }\n",
       "\n",
       "    .dataframe tbody tr th {\n",
       "        vertical-align: top;\n",
       "    }\n",
       "\n",
       "    .dataframe thead th {\n",
       "        text-align: right;\n",
       "    }\n",
       "</style>\n",
       "<table border=\"1\" class=\"dataframe\">\n",
       "  <thead>\n",
       "    <tr style=\"text-align: right;\">\n",
       "      <th></th>\n",
       "      <th>Faixa</th>\n",
       "      <th>Frequência</th>\n",
       "      <th>Frequência Acumulada</th>\n",
       "    </tr>\n",
       "  </thead>\n",
       "  <tbody>\n",
       "    <tr>\n",
       "      <th>0</th>\n",
       "      <td>0–99</td>\n",
       "      <td>25</td>\n",
       "      <td>25</td>\n",
       "    </tr>\n",
       "    <tr>\n",
       "      <th>1</th>\n",
       "      <td>100–199</td>\n",
       "      <td>0</td>\n",
       "      <td>25</td>\n",
       "    </tr>\n",
       "    <tr>\n",
       "      <th>2</th>\n",
       "      <td>200–299</td>\n",
       "      <td>0</td>\n",
       "      <td>25</td>\n",
       "    </tr>\n",
       "    <tr>\n",
       "      <th>3</th>\n",
       "      <td>300–399</td>\n",
       "      <td>702</td>\n",
       "      <td>727</td>\n",
       "    </tr>\n",
       "    <tr>\n",
       "      <th>4</th>\n",
       "      <td>400–499</td>\n",
       "      <td>3286</td>\n",
       "      <td>4013</td>\n",
       "    </tr>\n",
       "    <tr>\n",
       "      <th>5</th>\n",
       "      <td>500–599</td>\n",
       "      <td>2687</td>\n",
       "      <td>6700</td>\n",
       "    </tr>\n",
       "    <tr>\n",
       "      <th>6</th>\n",
       "      <td>600–699</td>\n",
       "      <td>491</td>\n",
       "      <td>7191</td>\n",
       "    </tr>\n",
       "    <tr>\n",
       "      <th>7</th>\n",
       "      <td>700–799</td>\n",
       "      <td>64</td>\n",
       "      <td>7255</td>\n",
       "    </tr>\n",
       "    <tr>\n",
       "      <th>8</th>\n",
       "      <td>800–899</td>\n",
       "      <td>2</td>\n",
       "      <td>7257</td>\n",
       "    </tr>\n",
       "    <tr>\n",
       "      <th>9</th>\n",
       "      <td>900–1000</td>\n",
       "      <td>0</td>\n",
       "      <td>7257</td>\n",
       "    </tr>\n",
       "  </tbody>\n",
       "</table>\n",
       "</div>"
      ],
      "text/plain": [
       "      Faixa  Frequência  Frequência Acumulada\n",
       "0      0–99          25                    25\n",
       "1   100–199           0                    25\n",
       "2   200–299           0                    25\n",
       "3   300–399         702                   727\n",
       "4   400–499        3286                  4013\n",
       "5   500–599        2687                  6700\n",
       "6   600–699         491                  7191\n",
       "7   700–799          64                  7255\n",
       "8   800–899           2                  7257\n",
       "9  900–1000           0                  7257"
      ]
     },
     "execution_count": 28,
     "metadata": {},
     "output_type": "execute_result"
    }
   ],
   "source": [
    "distribuicao_de_frequencia = pd.DataFrame({\n",
    "    'Faixa': freq.index,\n",
    "    'Frequência': freq.values,\n",
    "    'Frequência Acumulada': freq_acumulada.values\n",
    "})\n",
    "distribuicao_de_frequencia"
   ]
  },
  {
   "cell_type": "code",
   "execution_count": null,
   "id": "fb91e071-d7f2-44cd-ad06-31fbc5febd0c",
   "metadata": {},
   "outputs": [],
   "source": [
    "# Gráfico de ogiva"
   ]
  }
 ],
 "metadata": {
  "kernelspec": {
   "display_name": "Python 3 (ipykernel)",
   "language": "python",
   "name": "python3"
  },
  "language_info": {
   "codemirror_mode": {
    "name": "ipython",
    "version": 3
   },
   "file_extension": ".py",
   "mimetype": "text/x-python",
   "name": "python",
   "nbconvert_exporter": "python",
   "pygments_lexer": "ipython3",
   "version": "3.10.12"
  }
 },
 "nbformat": 4,
 "nbformat_minor": 5
}
