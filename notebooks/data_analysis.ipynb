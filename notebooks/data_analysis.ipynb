{
 "cells": [
  {
   "cell_type": "code",
   "execution_count": 1,
   "id": "d0fcdc0f-10b2-430a-97b3-f7cee0af03ce",
   "metadata": {},
   "outputs": [],
   "source": [
    "import pandas as pd\n",
    "import numpy as np\n",
    "import matplotlib.pyplot as plt\n",
    "import seaborn as sns\n",
    "from pprint import pprint"
   ]
  },
  {
   "cell_type": "code",
   "execution_count": null,
   "id": "673fdd9e-5142-493f-af78-8680ce303162",
   "metadata": {},
   "outputs": [],
   "source": [
    "microdata.to_pickle('../data/enem_2023.pkl') "
   ]
  },
  {
   "cell_type": "code",
   "execution_count": null,
   "id": "620d069f-25e9-4950-af45-79ac338d261f",
   "metadata": {},
   "outputs": [],
   "source": [
    "dict_microdata.to_pickle('../data/dictionary/dict_microdata.pkl')"
   ]
  },
  {
   "cell_type": "code",
   "execution_count": null,
   "id": "dc9d12ae-c267-4839-843e-a5432aaf1c5e",
   "metadata": {},
   "outputs": [],
   "source": [
    "items_data.to_pickle('../data/items_data.pkl')"
   ]
  },
  {
   "cell_type": "code",
   "execution_count": 12,
   "id": "d5f76f5b-9fc2-46fa-879a-a7b7be806fc2",
   "metadata": {},
   "outputs": [],
   "source": [
    "microdata_filtered.to_pickle('../data/microdata_filtered.pkl')"
   ]
  },
  {
   "cell_type": "code",
   "execution_count": null,
   "id": "fed98763-2421-4215-b2e9-ce17145d5317",
   "metadata": {},
   "outputs": [],
   "source": [
    "medias_gerais.to_pickle('../data/medias_gerais.pkl')"
   ]
  },
  {
   "cell_type": "code",
   "execution_count": 2,
   "id": "15b62054-ba7c-4909-9060-e743013416fe",
   "metadata": {},
   "outputs": [],
   "source": [
    "microdata = pd.read_pickle('../data/enem_2023.pkl')\n",
    "items_data = pd.read_pickle('../data/items_data.pkl')\n",
    "dict_microdata = pd.read_pickle('../data/dictionary/dict_microdata.pkl')\n",
    "microdata_filtered = pd.read_pickle('../data/microdata_filtered.pkl')\n",
    "medias_gerais = pd.read_pickle('../data/medias_gerais.pkl')"
   ]
  },
  {
   "cell_type": "code",
   "execution_count": 9,
   "id": "94c412f8-8f78-47e0-b655-2e1bd9db9264",
   "metadata": {},
   "outputs": [
    {
     "data": {
      "text/plain": [
       "Index(['Ano do ENEM', 'Estado civil', 'Raca/cor', 'Sexo', 'Nacionalidade',\n",
       "       'Situação do Ensino Medio', 'Nota C Naturais', 'Nota C Humanas',\n",
       "       'Nota Linguagens', 'Nota mat', 'Situacao redacao', 'Nota redacao',\n",
       "       'NU_INSCRICAO'],\n",
       "      dtype='object')"
      ]
     },
     "execution_count": 9,
     "metadata": {},
     "output_type": "execute_result"
    }
   ],
   "source": [
    "microdata_filtered.columns"
   ]
  },
  {
   "cell_type": "code",
   "execution_count": 18,
   "id": "584d4397-c16d-4625-b719-4701ab9035ab",
   "metadata": {},
   "outputs": [
    {
     "data": {
      "text/plain": [
       "np.int64(999)"
      ]
     },
     "execution_count": 18,
     "metadata": {},
     "output_type": "execute_result"
    }
   ],
   "source": [
    "# Verificação de valores duplicados na coluna Ano do ENEM\n",
    "microdata_filtered['Ano do ENEM'].duplicated().sum()"
   ]
  },
  {
   "cell_type": "code",
   "execution_count": 19,
   "id": "65b3aa6b-ae8c-458b-946e-17513a1da914",
   "metadata": {},
   "outputs": [
    {
     "data": {
      "text/plain": [
       "array([2023])"
      ]
     },
     "execution_count": 19,
     "metadata": {},
     "output_type": "execute_result"
    }
   ],
   "source": [
    "microdata_filtered['Ano do ENEM'].unique()"
   ]
  },
  {
   "cell_type": "markdown",
   "id": "2152c651-4745-49b1-b1a0-73c7a4dc6e69",
   "metadata": {},
   "source": [
    "A coluna \"Ano do ENEM\" possui o mesmo valor: 2023. Portanto é ineficiente mantê-la no DataFrame"
   ]
  },
  {
   "cell_type": "code",
   "execution_count": 10,
   "id": "3052fea3-37c4-4055-ba27-a3a37e334c05",
   "metadata": {},
   "outputs": [],
   "source": [
    "microdata_filtered = microdata_filtered.drop(columns=['Ano do ENEM'])"
   ]
  },
  {
   "cell_type": "code",
   "execution_count": 3,
   "id": "f2ee369c-aed3-418d-8e97-7683cfd79842",
   "metadata": {},
   "outputs": [
    {
     "data": {
      "text/plain": [
       "Index(['Estado civil', 'Raca/cor', 'Sexo', 'Nacionalidade',\n",
       "       'Situação do Ensino Medio', 'Nota C Naturais', 'Nota C Humanas',\n",
       "       'Nota Linguagens', 'Nota mat', 'Situacao redacao', 'Nota redacao',\n",
       "       'NU_INSCRICAO'],\n",
       "      dtype='object')"
      ]
     },
     "execution_count": 3,
     "metadata": {},
     "output_type": "execute_result"
    }
   ],
   "source": [
    "microdata_filtered.columns"
   ]
  },
  {
   "cell_type": "markdown",
   "id": "023f83ca-047b-4206-ae9f-caed3765f969",
   "metadata": {},
   "source": [
    "**OUTLIERS**\n",
    "\n",
    "Abaixo está a função para identificar os outliers nas notas de cada conhecimento"
   ]
  },
  {
   "cell_type": "code",
   "execution_count": 3,
   "id": "af8a6ca4-5e42-47ca-a125-f1b00179ee05",
   "metadata": {},
   "outputs": [],
   "source": [
    "def outliers(coluna):\n",
    "    q1 = microdata_filtered[coluna].quantile(0.25)\n",
    "    q3 = microdata_filtered[coluna].quantile(0.75)\n",
    "\n",
    "    iqr = q3 - q1\n",
    "\n",
    "    lim_inferior = q1 - 1.5 * iqr\n",
    "    lim_superior = q3 + 1.5 * iqr\n",
    "\n",
    "    print(f\"Coluna: {coluna}\")\n",
    "    print(f\"Limite inferior: {lim_inferior:.2f}\")\n",
    "    print(f\"Limite superior: {lim_superior:.2f}\")\n",
    "    print(f\"Poucos alunos tiraram nota acima de {lim_superior:.2f} e abaixo de {lim_inferior:.2f}\")"
   ]
  },
  {
   "cell_type": "code",
   "execution_count": 4,
   "id": "bbeef766-4ce6-42d3-8337-f93d16430681",
   "metadata": {},
   "outputs": [
    {
     "name": "stdout",
     "output_type": "stream",
     "text": [
      "Coluna: Nota C Naturais\n",
      "Limite inferior: 388.81\n",
      "Limite superior: 604.31\n",
      "Poucos alunos tiraram nota acima de 604.31 e abaixo de 388.81\n"
     ]
    }
   ],
   "source": [
    "outliers('Nota C Naturais')"
   ]
  },
  {
   "cell_type": "code",
   "execution_count": 5,
   "id": "994eeb54-18cd-4bad-bc0b-30dea398962c",
   "metadata": {},
   "outputs": [
    {
     "name": "stdout",
     "output_type": "stream",
     "text": [
      "Coluna: Nota C Humanas\n",
      "Limite inferior: 445.76\n",
      "Limite superior: 646.06\n",
      "Poucos alunos tiraram nota acima de 646.06 e abaixo de 445.76\n"
     ]
    }
   ],
   "source": [
    "outliers('Nota C Humanas')"
   ]
  },
  {
   "cell_type": "code",
   "execution_count": 6,
   "id": "94f04c9a-990e-456f-8975-22d8e0e1684c",
   "metadata": {},
   "outputs": [
    {
     "name": "stdout",
     "output_type": "stream",
     "text": [
      "Coluna: Nota Linguagens\n",
      "Limite inferior: 435.30\n",
      "Limite superior: 631.70\n",
      "Poucos alunos tiraram nota acima de 631.70 e abaixo de 435.30\n"
     ]
    }
   ],
   "source": [
    "outliers('Nota Linguagens')"
   ]
  },
  {
   "cell_type": "code",
   "execution_count": 7,
   "id": "d86cc7df-b261-4d0f-a8ab-bca5c34a8323",
   "metadata": {},
   "outputs": [
    {
     "name": "stdout",
     "output_type": "stream",
     "text": [
      "Coluna: Nota mat\n",
      "Limite inferior: 348.81\n",
      "Limite superior: 689.51\n",
      "Poucos alunos tiraram nota acima de 689.51 e abaixo de 348.81\n"
     ]
    }
   ],
   "source": [
    "outliers('Nota mat')"
   ]
  },
  {
   "cell_type": "code",
   "execution_count": 8,
   "id": "4a5fbb96-0fb5-48dc-9ce9-38936cd11871",
   "metadata": {},
   "outputs": [
    {
     "name": "stdout",
     "output_type": "stream",
     "text": [
      "Coluna: Nota redacao\n",
      "Limite inferior: 370.00\n",
      "Limite superior: 930.00\n",
      "Poucos alunos tiraram nota acima de 930.00 e abaixo de 370.00\n"
     ]
    }
   ],
   "source": [
    "outliers('Nota redacao')"
   ]
  },
  {
   "cell_type": "code",
   "execution_count": 13,
   "id": "1695a113-4b5e-485d-9e82-94c9d2a7619c",
   "metadata": {},
   "outputs": [],
   "source": [
    "# Média das 4 áreas por candidato (nota geral):\n",
    "medias_gerais = pd.DataFrame({\n",
    "    'NU_INSCRICAO': microdata_filtered['NU_INSCRICAO'],\n",
    "    'media geral': microdata_filtered[[\n",
    "    'Nota C Naturais', 'Nota C Humanas', 'Nota Linguagens', 'Nota mat', 'Nota redacao'\n",
    "]].mean(axis=1)})"
   ]
  },
  {
   "cell_type": "code",
   "execution_count": 14,
   "id": "17fcf303-4e2a-4bd7-b18c-051569f24435",
   "metadata": {},
   "outputs": [
    {
     "data": {
      "text/html": [
       "<div>\n",
       "<style scoped>\n",
       "    .dataframe tbody tr th:only-of-type {\n",
       "        vertical-align: middle;\n",
       "    }\n",
       "\n",
       "    .dataframe tbody tr th {\n",
       "        vertical-align: top;\n",
       "    }\n",
       "\n",
       "    .dataframe thead th {\n",
       "        text-align: right;\n",
       "    }\n",
       "</style>\n",
       "<table border=\"1\" class=\"dataframe\">\n",
       "  <thead>\n",
       "    <tr style=\"text-align: right;\">\n",
       "      <th></th>\n",
       "      <th>NU_INSCRICAO</th>\n",
       "      <th>media geral</th>\n",
       "    </tr>\n",
       "  </thead>\n",
       "  <tbody>\n",
       "    <tr>\n",
       "      <th>0</th>\n",
       "      <td>210059085136</td>\n",
       "      <td>545.82</td>\n",
       "    </tr>\n",
       "    <tr>\n",
       "      <th>1</th>\n",
       "      <td>210059527735</td>\n",
       "      <td>545.82</td>\n",
       "    </tr>\n",
       "    <tr>\n",
       "      <th>2</th>\n",
       "      <td>210061103945</td>\n",
       "      <td>507.94</td>\n",
       "    </tr>\n",
       "    <tr>\n",
       "      <th>3</th>\n",
       "      <td>210060214087</td>\n",
       "      <td>564.28</td>\n",
       "    </tr>\n",
       "    <tr>\n",
       "      <th>4</th>\n",
       "      <td>210059980948</td>\n",
       "      <td>425.38</td>\n",
       "    </tr>\n",
       "  </tbody>\n",
       "</table>\n",
       "</div>"
      ],
      "text/plain": [
       "   NU_INSCRICAO  media geral\n",
       "0  210059085136       545.82\n",
       "1  210059527735       545.82\n",
       "2  210061103945       507.94\n",
       "3  210060214087       564.28\n",
       "4  210059980948       425.38"
      ]
     },
     "execution_count": 14,
     "metadata": {},
     "output_type": "execute_result"
    }
   ],
   "source": [
    "medias_gerais.head()"
   ]
  },
  {
   "cell_type": "code",
   "execution_count": 17,
   "id": "bc4e4250-37bb-49ee-a076-2e513f2631c8",
   "metadata": {},
   "outputs": [],
   "source": [
    "# Média das notas por sexo\n",
    "medias_gerais['sexo'] = microdata_filtered['Sexo'].copy()"
   ]
  },
  {
   "cell_type": "code",
   "execution_count": 18,
   "id": "236ecdf5-4b09-4915-b904-50475a6d8113",
   "metadata": {},
   "outputs": [
    {
     "data": {
      "text/plain": [
       "sexo\n",
       "F    543.801804\n",
       "M    553.809884\n",
       "Name: media geral, dtype: float64"
      ]
     },
     "execution_count": 18,
     "metadata": {},
     "output_type": "execute_result"
    }
   ],
   "source": [
    "medias_gerais.groupby('sexo')['media geral'].mean()"
   ]
  },
  {
   "cell_type": "code",
   "execution_count": 19,
   "id": "efc283ce-fd3d-4867-a114-a6d06e3c23d6",
   "metadata": {},
   "outputs": [
    {
     "data": {
      "text/plain": [
       "Sexo\n",
       "F    510.735015\n",
       "M    541.619653\n",
       "Name: Nota mat, dtype: float64"
      ]
     },
     "execution_count": 19,
     "metadata": {},
     "output_type": "execute_result"
    }
   ],
   "source": [
    "# Média das notas por sexo e área de conhecimento\n",
    "microdata_filtered.groupby('Sexo')['Nota mat'].mean()"
   ]
  },
  {
   "cell_type": "code",
   "execution_count": 20,
   "id": "078c4b63-45f4-467f-9d1b-66d544a6b055",
   "metadata": {},
   "outputs": [
    {
     "data": {
      "text/plain": [
       "Sexo\n",
       "F    527.926606\n",
       "M    532.552023\n",
       "Name: Nota Linguagens, dtype: float64"
      ]
     },
     "execution_count": 20,
     "metadata": {},
     "output_type": "execute_result"
    }
   ],
   "source": [
    "microdata_filtered.groupby('Sexo')['Nota Linguagens'].mean()"
   ]
  },
  {
   "cell_type": "code",
   "execution_count": 21,
   "id": "06bffdcc-c8e6-49ab-a7d6-a1600c7dded8",
   "metadata": {},
   "outputs": [
    {
     "data": {
      "text/plain": [
       "Sexo\n",
       "F    653.180428\n",
       "M    634.161850\n",
       "Name: Nota redacao, dtype: float64"
      ]
     },
     "execution_count": 21,
     "metadata": {},
     "output_type": "execute_result"
    }
   ],
   "source": [
    "microdata_filtered.groupby('Sexo')['Nota redacao'].mean()"
   ]
  },
  {
   "cell_type": "code",
   "execution_count": 22,
   "id": "b58dfe1b-5c29-463c-81f3-a439f80a8cdc",
   "metadata": {},
   "outputs": [],
   "source": [
    "# Área com maior dificuldade\n",
    "media_por_area = pd.Series({\n",
    "    'C Naturais': microdata_filtered['Nota C Naturais'].mean(axis=0),\n",
    "    'C Humanas': microdata_filtered['Nota C Humanas'].mean(axis=0),\n",
    "    'Linguagens': microdata_filtered['Nota Linguagens'].mean(axis=0),\n",
    "    'Matematica': microdata_filtered['Nota mat'].mean(axis=0),\n",
    "    'Redacao': microdata_filtered['Nota redacao'].mean(axis=0)\n",
    "})"
   ]
  },
  {
   "cell_type": "code",
   "execution_count": 24,
   "id": "9252da33-da35-47e6-aac6-e6c09705efda",
   "metadata": {},
   "outputs": [
    {
     "data": {
      "text/plain": [
       "C Naturais    497.1654\n",
       "Matematica    521.4211\n",
       "Linguagens    529.5270\n",
       "C Humanas     541.6095\n",
       "Redacao       646.6000\n",
       "dtype: float64"
      ]
     },
     "execution_count": 24,
     "metadata": {},
     "output_type": "execute_result"
    }
   ],
   "source": [
    "media_por_area = media_por_area.sort_values()\n",
    "media_por_area"
   ]
  },
  {
   "cell_type": "markdown",
   "id": "5615e1e5-3bc9-4a84-a8c1-0ed481500996",
   "metadata": {},
   "source": [
    "A área com maior nível de dificuldade foi Ciências Naturais."
   ]
  },
  {
   "cell_type": "code",
   "execution_count": 5,
   "id": "32ea886f-43c4-48a5-b233-4c3b284dd81d",
   "metadata": {},
   "outputs": [],
   "source": [
    "# Desvio padrão das notas por tipo de escola\n"
   ]
  },
  {
   "cell_type": "code",
   "execution_count": null,
   "id": "119df9be-ee97-4857-8292-68be0ee4b517",
   "metadata": {},
   "outputs": [],
   "source": [
    "# Distribuição da idade dos candidatos"
   ]
  },
  {
   "cell_type": "code",
   "execution_count": 7,
   "id": "bc9cb488-4a94-4306-8036-7d7ee13b06f8",
   "metadata": {},
   "outputs": [
    {
     "data": {
      "text/plain": [
       "array([1, 2, 3, 4])"
      ]
     },
     "execution_count": 7,
     "metadata": {},
     "output_type": "execute_result"
    }
   ],
   "source": [
    "microdata_filtered['Situação do Ensino Medio'].unique()"
   ]
  },
  {
   "cell_type": "code",
   "execution_count": 9,
   "id": "3089b864-9d66-4190-9eff-9868400795ac",
   "metadata": {},
   "outputs": [
    {
     "data": {
      "text/html": [
       "<div>\n",
       "<style scoped>\n",
       "    .dataframe tbody tr th:only-of-type {\n",
       "        vertical-align: middle;\n",
       "    }\n",
       "\n",
       "    .dataframe tbody tr th {\n",
       "        vertical-align: top;\n",
       "    }\n",
       "\n",
       "    .dataframe thead th {\n",
       "        text-align: right;\n",
       "    }\n",
       "</style>\n",
       "<table border=\"1\" class=\"dataframe\">\n",
       "  <thead>\n",
       "    <tr style=\"text-align: right;\">\n",
       "      <th></th>\n",
       "      <th>DICIONÁRIO DE VARIÁVEIS - ENEM 2023</th>\n",
       "      <th>Descrição</th>\n",
       "      <th>Variáveis Categóricas</th>\n",
       "      <th>Categoria</th>\n",
       "      <th>Tamanho</th>\n",
       "      <th>Tipo</th>\n",
       "    </tr>\n",
       "  </thead>\n",
       "  <tbody>\n",
       "    <tr>\n",
       "      <th>0</th>\n",
       "      <td>NaN</td>\n",
       "      <td>NaN</td>\n",
       "      <td>NaN</td>\n",
       "      <td>NaN</td>\n",
       "      <td>NaN</td>\n",
       "      <td>NaN</td>\n",
       "    </tr>\n",
       "    <tr>\n",
       "      <th>1</th>\n",
       "      <td>NOME DA VARIÁVEL</td>\n",
       "      <td>Descrição</td>\n",
       "      <td>Variáveis Categóricas</td>\n",
       "      <td>NaN</td>\n",
       "      <td>Tamanho</td>\n",
       "      <td>Tipo</td>\n",
       "    </tr>\n",
       "    <tr>\n",
       "      <th>2</th>\n",
       "      <td>NaN</td>\n",
       "      <td>NaN</td>\n",
       "      <td>Categoria</td>\n",
       "      <td>Descrição</td>\n",
       "      <td>NaN</td>\n",
       "      <td>NaN</td>\n",
       "    </tr>\n",
       "    <tr>\n",
       "      <th>3</th>\n",
       "      <td>DADOS DO PARTICIPANTE</td>\n",
       "      <td>NaN</td>\n",
       "      <td>NaN</td>\n",
       "      <td>NaN</td>\n",
       "      <td>NaN</td>\n",
       "      <td>NaN</td>\n",
       "    </tr>\n",
       "    <tr>\n",
       "      <th>4</th>\n",
       "      <td>NU_INSCRICAO</td>\n",
       "      <td>Número de inscrição1</td>\n",
       "      <td>NaN</td>\n",
       "      <td>NaN</td>\n",
       "      <td>12</td>\n",
       "      <td>Numérica</td>\n",
       "    </tr>\n",
       "  </tbody>\n",
       "</table>\n",
       "</div>"
      ],
      "text/plain": [
       "  DICIONÁRIO DE VARIÁVEIS - ENEM 2023              Descrição  \\\n",
       "0                                 NaN                    NaN   \n",
       "1                    NOME DA VARIÁVEL              Descrição   \n",
       "2                                 NaN                    NaN   \n",
       "3               DADOS DO PARTICIPANTE                    NaN   \n",
       "4                        NU_INSCRICAO  Número de inscrição1    \n",
       "\n",
       "   Variáveis Categóricas  Categoria   Tamanho      Tipo  \n",
       "0                    NaN        NaN       NaN       NaN  \n",
       "1  Variáveis Categóricas        NaN  Tamanho       Tipo  \n",
       "2              Categoria  Descrição       NaN       NaN  \n",
       "3                    NaN        NaN       NaN       NaN  \n",
       "4                    NaN        NaN        12  Numérica  "
      ]
     },
     "execution_count": 9,
     "metadata": {},
     "output_type": "execute_result"
    }
   ],
   "source": [
    "dict_microdata.head()"
   ]
  },
  {
   "cell_type": "code",
   "execution_count": 14,
   "id": "30ae9a31-cc5d-4182-aeb5-e96f2a8c9553",
   "metadata": {},
   "outputs": [],
   "source": [
    "filtro = dict_microdata['DICIONÁRIO DE VARIÁVEIS - ENEM 2023'].str.contains('TP_ESCOLA',case=False, na=False)"
   ]
  },
  {
   "cell_type": "code",
   "execution_count": 24,
   "id": "68221f48-e721-4029-97a5-465b5ddee008",
   "metadata": {},
   "outputs": [
    {
     "data": {
      "text/html": [
       "<div>\n",
       "<style scoped>\n",
       "    .dataframe tbody tr th:only-of-type {\n",
       "        vertical-align: middle;\n",
       "    }\n",
       "\n",
       "    .dataframe tbody tr th {\n",
       "        vertical-align: top;\n",
       "    }\n",
       "\n",
       "    .dataframe thead th {\n",
       "        text-align: right;\n",
       "    }\n",
       "</style>\n",
       "<table border=\"1\" class=\"dataframe\">\n",
       "  <thead>\n",
       "    <tr style=\"text-align: right;\">\n",
       "      <th></th>\n",
       "      <th>Descrição</th>\n",
       "      <th>Categoria</th>\n",
       "      <th>Variáveis Categóricas</th>\n",
       "    </tr>\n",
       "  </thead>\n",
       "  <tbody>\n",
       "    <tr>\n",
       "      <th>67</th>\n",
       "      <td>Tipo de escola do Ensino Médio</td>\n",
       "      <td>Não Respondeu</td>\n",
       "      <td>1</td>\n",
       "    </tr>\n",
       "  </tbody>\n",
       "</table>\n",
       "</div>"
      ],
      "text/plain": [
       "                         Descrição      Categoria Variáveis Categóricas\n",
       "67  Tipo de escola do Ensino Médio  Não Respondeu                     1"
      ]
     },
     "execution_count": 24,
     "metadata": {},
     "output_type": "execute_result"
    }
   ],
   "source": [
    "dict_microdata.loc[filtro, ['Descrição','Categoria','Variáveis Categóricas']]"
   ]
  },
  {
   "cell_type": "code",
   "execution_count": 26,
   "id": "884b812a-054a-4504-9858-cbf2f586dcf6",
   "metadata": {},
   "outputs": [
    {
     "data": {
      "text/html": [
       "<div>\n",
       "<style scoped>\n",
       "    .dataframe tbody tr th:only-of-type {\n",
       "        vertical-align: middle;\n",
       "    }\n",
       "\n",
       "    .dataframe tbody tr th {\n",
       "        vertical-align: top;\n",
       "    }\n",
       "\n",
       "    .dataframe thead th {\n",
       "        text-align: right;\n",
       "    }\n",
       "</style>\n",
       "<table border=\"1\" class=\"dataframe\">\n",
       "  <thead>\n",
       "    <tr style=\"text-align: right;\">\n",
       "      <th></th>\n",
       "      <th>Descrição</th>\n",
       "      <th>Variáveis Categóricas</th>\n",
       "      <th>Categoria</th>\n",
       "    </tr>\n",
       "  </thead>\n",
       "  <tbody>\n",
       "    <tr>\n",
       "      <th>67</th>\n",
       "      <td>Tipo de escola do Ensino Médio</td>\n",
       "      <td>1</td>\n",
       "      <td>Não Respondeu</td>\n",
       "    </tr>\n",
       "    <tr>\n",
       "      <th>68</th>\n",
       "      <td>NaN</td>\n",
       "      <td>2</td>\n",
       "      <td>Pública</td>\n",
       "    </tr>\n",
       "    <tr>\n",
       "      <th>69</th>\n",
       "      <td>NaN</td>\n",
       "      <td>3</td>\n",
       "      <td>Privada</td>\n",
       "    </tr>\n",
       "    <tr>\n",
       "      <th>70</th>\n",
       "      <td>Tipo de instituição que concluiu ou concluirá ...</td>\n",
       "      <td>1</td>\n",
       "      <td>Ensino Regular</td>\n",
       "    </tr>\n",
       "  </tbody>\n",
       "</table>\n",
       "</div>"
      ],
      "text/plain": [
       "                                            Descrição Variáveis Categóricas  \\\n",
       "67                     Tipo de escola do Ensino Médio                     1   \n",
       "68                                                NaN                     2   \n",
       "69                                                NaN                     3   \n",
       "70  Tipo de instituição que concluiu ou concluirá ...                     1   \n",
       "\n",
       "         Categoria  \n",
       "67   Não Respondeu  \n",
       "68         Pública  \n",
       "69         Privada  \n",
       "70  Ensino Regular  "
      ]
     },
     "execution_count": 26,
     "metadata": {},
     "output_type": "execute_result"
    }
   ],
   "source": [
    "dict_microdata.iloc[[67,68,69,70], [1,2,3]]"
   ]
  },
  {
   "cell_type": "code",
   "execution_count": 22,
   "id": "46e143d6-259d-44d1-99c5-900158a44122",
   "metadata": {},
   "outputs": [],
   "source": [
    "microdata_filtered = microdata_filtered.merge(microdata['TP_ESCOLA'], left_index=True, right_index=True)"
   ]
  },
  {
   "cell_type": "code",
   "execution_count": 23,
   "id": "8d8b0009-839a-425b-9311-e307328b6156",
   "metadata": {},
   "outputs": [
    {
     "name": "stdout",
     "output_type": "stream",
     "text": [
      "<class 'pandas.core.frame.DataFrame'>\n",
      "RangeIndex: 1000 entries, 0 to 999\n",
      "Data columns (total 13 columns):\n",
      " #   Column                    Non-Null Count  Dtype  \n",
      "---  ------                    --------------  -----  \n",
      " 0   Estado civil              1000 non-null   int64  \n",
      " 1   Raca/cor                  1000 non-null   int64  \n",
      " 2   Sexo                      1000 non-null   object \n",
      " 3   Nacionalidade             1000 non-null   int64  \n",
      " 4   Situação do Ensino Medio  1000 non-null   int64  \n",
      " 5   Nota C Naturais           1000 non-null   float64\n",
      " 6   Nota C Humanas            1000 non-null   float64\n",
      " 7   Nota Linguagens           1000 non-null   float64\n",
      " 8   Nota mat                  1000 non-null   float64\n",
      " 9   Situacao redacao          1000 non-null   float64\n",
      " 10  Nota redacao              1000 non-null   float64\n",
      " 11  NU_INSCRICAO              1000 non-null   int64  \n",
      " 12  TP_ESCOLA                 1000 non-null   int64  \n",
      "dtypes: float64(6), int64(6), object(1)\n",
      "memory usage: 101.7+ KB\n"
     ]
    }
   ],
   "source": [
    "microdata_filtered.info()"
   ]
  },
  {
   "cell_type": "code",
   "execution_count": 29,
   "id": "5e34bf2a-257b-47d2-8eac-4860d15ba980",
   "metadata": {},
   "outputs": [],
   "source": [
    "escola_publica = microdata_filtered.loc[microdata_filtered['TP_ESCOLA'] == 2]"
   ]
  },
  {
   "cell_type": "code",
   "execution_count": 31,
   "id": "b2375738-3af8-4144-8e36-552892786016",
   "metadata": {},
   "outputs": [
    {
     "data": {
      "text/html": [
       "<div>\n",
       "<style scoped>\n",
       "    .dataframe tbody tr th:only-of-type {\n",
       "        vertical-align: middle;\n",
       "    }\n",
       "\n",
       "    .dataframe tbody tr th {\n",
       "        vertical-align: top;\n",
       "    }\n",
       "\n",
       "    .dataframe thead th {\n",
       "        text-align: right;\n",
       "    }\n",
       "</style>\n",
       "<table border=\"1\" class=\"dataframe\">\n",
       "  <thead>\n",
       "    <tr style=\"text-align: right;\">\n",
       "      <th></th>\n",
       "      <th>Estado civil</th>\n",
       "      <th>Raca/cor</th>\n",
       "      <th>Sexo</th>\n",
       "      <th>Nacionalidade</th>\n",
       "      <th>Situação do Ensino Medio</th>\n",
       "      <th>Nota C Naturais</th>\n",
       "      <th>Nota C Humanas</th>\n",
       "      <th>Nota Linguagens</th>\n",
       "      <th>Nota mat</th>\n",
       "      <th>Situacao redacao</th>\n",
       "      <th>Nota redacao</th>\n",
       "      <th>NU_INSCRICAO</th>\n",
       "      <th>TP_ESCOLA</th>\n",
       "    </tr>\n",
       "  </thead>\n",
       "  <tbody>\n",
       "    <tr>\n",
       "      <th>3</th>\n",
       "      <td>1</td>\n",
       "      <td>3</td>\n",
       "      <td>F</td>\n",
       "      <td>1</td>\n",
       "      <td>2</td>\n",
       "      <td>459.0</td>\n",
       "      <td>508.5</td>\n",
       "      <td>507.2</td>\n",
       "      <td>466.7</td>\n",
       "      <td>1.0</td>\n",
       "      <td>880.0</td>\n",
       "      <td>210060214087</td>\n",
       "      <td>2</td>\n",
       "    </tr>\n",
       "    <tr>\n",
       "      <th>4</th>\n",
       "      <td>1</td>\n",
       "      <td>3</td>\n",
       "      <td>F</td>\n",
       "      <td>1</td>\n",
       "      <td>2</td>\n",
       "      <td>402.5</td>\n",
       "      <td>379.2</td>\n",
       "      <td>446.9</td>\n",
       "      <td>338.3</td>\n",
       "      <td>1.0</td>\n",
       "      <td>560.0</td>\n",
       "      <td>210059980948</td>\n",
       "      <td>2</td>\n",
       "    </tr>\n",
       "    <tr>\n",
       "      <th>11</th>\n",
       "      <td>1</td>\n",
       "      <td>3</td>\n",
       "      <td>M</td>\n",
       "      <td>4</td>\n",
       "      <td>2</td>\n",
       "      <td>608.2</td>\n",
       "      <td>667.6</td>\n",
       "      <td>607.9</td>\n",
       "      <td>691.9</td>\n",
       "      <td>1.0</td>\n",
       "      <td>780.0</td>\n",
       "      <td>210060801595</td>\n",
       "      <td>2</td>\n",
       "    </tr>\n",
       "    <tr>\n",
       "      <th>12</th>\n",
       "      <td>1</td>\n",
       "      <td>3</td>\n",
       "      <td>M</td>\n",
       "      <td>1</td>\n",
       "      <td>2</td>\n",
       "      <td>498.7</td>\n",
       "      <td>546.1</td>\n",
       "      <td>532.1</td>\n",
       "      <td>512.2</td>\n",
       "      <td>1.0</td>\n",
       "      <td>640.0</td>\n",
       "      <td>210059527729</td>\n",
       "      <td>2</td>\n",
       "    </tr>\n",
       "    <tr>\n",
       "      <th>16</th>\n",
       "      <td>1</td>\n",
       "      <td>1</td>\n",
       "      <td>F</td>\n",
       "      <td>1</td>\n",
       "      <td>2</td>\n",
       "      <td>515.7</td>\n",
       "      <td>553.1</td>\n",
       "      <td>544.4</td>\n",
       "      <td>437.0</td>\n",
       "      <td>1.0</td>\n",
       "      <td>880.0</td>\n",
       "      <td>210058061534</td>\n",
       "      <td>2</td>\n",
       "    </tr>\n",
       "  </tbody>\n",
       "</table>\n",
       "</div>"
      ],
      "text/plain": [
       "    Estado civil  Raca/cor Sexo  Nacionalidade  Situação do Ensino Medio  \\\n",
       "3              1         3    F              1                         2   \n",
       "4              1         3    F              1                         2   \n",
       "11             1         3    M              4                         2   \n",
       "12             1         3    M              1                         2   \n",
       "16             1         1    F              1                         2   \n",
       "\n",
       "    Nota C Naturais  Nota C Humanas  Nota Linguagens  Nota mat  \\\n",
       "3             459.0           508.5            507.2     466.7   \n",
       "4             402.5           379.2            446.9     338.3   \n",
       "11            608.2           667.6            607.9     691.9   \n",
       "12            498.7           546.1            532.1     512.2   \n",
       "16            515.7           553.1            544.4     437.0   \n",
       "\n",
       "    Situacao redacao  Nota redacao  NU_INSCRICAO  TP_ESCOLA  \n",
       "3                1.0         880.0  210060214087          2  \n",
       "4                1.0         560.0  210059980948          2  \n",
       "11               1.0         780.0  210060801595          2  \n",
       "12               1.0         640.0  210059527729          2  \n",
       "16               1.0         880.0  210058061534          2  "
      ]
     },
     "execution_count": 31,
     "metadata": {},
     "output_type": "execute_result"
    }
   ],
   "source": [
    "escola_publica.head()"
   ]
  },
  {
   "cell_type": "code",
   "execution_count": 32,
   "id": "3804ee94-4c33-452d-a953-90841dddbc72",
   "metadata": {},
   "outputs": [],
   "source": [
    "escola_particular = microdata_filtered.loc[microdata_filtered['TP_ESCOLA'] == 3]"
   ]
  },
  {
   "cell_type": "code",
   "execution_count": 33,
   "id": "a00dd34e-fb4e-4bf4-8530-ad6c619b69c2",
   "metadata": {},
   "outputs": [
    {
     "data": {
      "text/html": [
       "<div>\n",
       "<style scoped>\n",
       "    .dataframe tbody tr th:only-of-type {\n",
       "        vertical-align: middle;\n",
       "    }\n",
       "\n",
       "    .dataframe tbody tr th {\n",
       "        vertical-align: top;\n",
       "    }\n",
       "\n",
       "    .dataframe thead th {\n",
       "        text-align: right;\n",
       "    }\n",
       "</style>\n",
       "<table border=\"1\" class=\"dataframe\">\n",
       "  <thead>\n",
       "    <tr style=\"text-align: right;\">\n",
       "      <th></th>\n",
       "      <th>Estado civil</th>\n",
       "      <th>Raca/cor</th>\n",
       "      <th>Sexo</th>\n",
       "      <th>Nacionalidade</th>\n",
       "      <th>Situação do Ensino Medio</th>\n",
       "      <th>Nota C Naturais</th>\n",
       "      <th>Nota C Humanas</th>\n",
       "      <th>Nota Linguagens</th>\n",
       "      <th>Nota mat</th>\n",
       "      <th>Situacao redacao</th>\n",
       "      <th>Nota redacao</th>\n",
       "      <th>NU_INSCRICAO</th>\n",
       "      <th>TP_ESCOLA</th>\n",
       "    </tr>\n",
       "  </thead>\n",
       "  <tbody>\n",
       "    <tr>\n",
       "      <th>122</th>\n",
       "      <td>1</td>\n",
       "      <td>3</td>\n",
       "      <td>F</td>\n",
       "      <td>1</td>\n",
       "      <td>2</td>\n",
       "      <td>440.8</td>\n",
       "      <td>603.5</td>\n",
       "      <td>597.7</td>\n",
       "      <td>663.3</td>\n",
       "      <td>1.0</td>\n",
       "      <td>700.0</td>\n",
       "      <td>210060440977</td>\n",
       "      <td>3</td>\n",
       "    </tr>\n",
       "    <tr>\n",
       "      <th>186</th>\n",
       "      <td>1</td>\n",
       "      <td>3</td>\n",
       "      <td>F</td>\n",
       "      <td>1</td>\n",
       "      <td>2</td>\n",
       "      <td>547.7</td>\n",
       "      <td>634.3</td>\n",
       "      <td>602.2</td>\n",
       "      <td>612.2</td>\n",
       "      <td>1.0</td>\n",
       "      <td>880.0</td>\n",
       "      <td>210058941510</td>\n",
       "      <td>3</td>\n",
       "    </tr>\n",
       "    <tr>\n",
       "      <th>474</th>\n",
       "      <td>1</td>\n",
       "      <td>5</td>\n",
       "      <td>F</td>\n",
       "      <td>1</td>\n",
       "      <td>2</td>\n",
       "      <td>487.8</td>\n",
       "      <td>535.4</td>\n",
       "      <td>519.4</td>\n",
       "      <td>591.0</td>\n",
       "      <td>1.0</td>\n",
       "      <td>740.0</td>\n",
       "      <td>210060801618</td>\n",
       "      <td>3</td>\n",
       "    </tr>\n",
       "    <tr>\n",
       "      <th>544</th>\n",
       "      <td>1</td>\n",
       "      <td>3</td>\n",
       "      <td>F</td>\n",
       "      <td>1</td>\n",
       "      <td>2</td>\n",
       "      <td>503.0</td>\n",
       "      <td>548.7</td>\n",
       "      <td>492.5</td>\n",
       "      <td>514.0</td>\n",
       "      <td>1.0</td>\n",
       "      <td>620.0</td>\n",
       "      <td>210061244814</td>\n",
       "      <td>3</td>\n",
       "    </tr>\n",
       "    <tr>\n",
       "      <th>652</th>\n",
       "      <td>1</td>\n",
       "      <td>2</td>\n",
       "      <td>F</td>\n",
       "      <td>1</td>\n",
       "      <td>2</td>\n",
       "      <td>364.8</td>\n",
       "      <td>484.1</td>\n",
       "      <td>415.0</td>\n",
       "      <td>491.5</td>\n",
       "      <td>1.0</td>\n",
       "      <td>740.0</td>\n",
       "      <td>210058387357</td>\n",
       "      <td>3</td>\n",
       "    </tr>\n",
       "  </tbody>\n",
       "</table>\n",
       "</div>"
      ],
      "text/plain": [
       "     Estado civil  Raca/cor Sexo  Nacionalidade  Situação do Ensino Medio  \\\n",
       "122             1         3    F              1                         2   \n",
       "186             1         3    F              1                         2   \n",
       "474             1         5    F              1                         2   \n",
       "544             1         3    F              1                         2   \n",
       "652             1         2    F              1                         2   \n",
       "\n",
       "     Nota C Naturais  Nota C Humanas  Nota Linguagens  Nota mat  \\\n",
       "122            440.8           603.5            597.7     663.3   \n",
       "186            547.7           634.3            602.2     612.2   \n",
       "474            487.8           535.4            519.4     591.0   \n",
       "544            503.0           548.7            492.5     514.0   \n",
       "652            364.8           484.1            415.0     491.5   \n",
       "\n",
       "     Situacao redacao  Nota redacao  NU_INSCRICAO  TP_ESCOLA  \n",
       "122               1.0         700.0  210060440977          3  \n",
       "186               1.0         880.0  210058941510          3  \n",
       "474               1.0         740.0  210060801618          3  \n",
       "544               1.0         620.0  210061244814          3  \n",
       "652               1.0         740.0  210058387357          3  "
      ]
     },
     "execution_count": 33,
     "metadata": {},
     "output_type": "execute_result"
    }
   ],
   "source": [
    "escola_particular.head()"
   ]
  },
  {
   "cell_type": "code",
   "execution_count": 36,
   "id": "0d6fdf2e-3c69-4cb9-9079-7e625d705eb3",
   "metadata": {},
   "outputs": [
    {
     "name": "stdout",
     "output_type": "stream",
     "text": [
      "<class 'pandas.core.frame.DataFrame'>\n",
      "Index: 233 entries, 3 to 989\n",
      "Data columns (total 13 columns):\n",
      " #   Column                    Non-Null Count  Dtype  \n",
      "---  ------                    --------------  -----  \n",
      " 0   Estado civil              233 non-null    int64  \n",
      " 1   Raca/cor                  233 non-null    int64  \n",
      " 2   Sexo                      233 non-null    object \n",
      " 3   Nacionalidade             233 non-null    int64  \n",
      " 4   Situação do Ensino Medio  233 non-null    int64  \n",
      " 5   Nota C Naturais           233 non-null    float64\n",
      " 6   Nota C Humanas            233 non-null    float64\n",
      " 7   Nota Linguagens           233 non-null    float64\n",
      " 8   Nota mat                  233 non-null    float64\n",
      " 9   Situacao redacao          233 non-null    float64\n",
      " 10  Nota redacao              233 non-null    float64\n",
      " 11  NU_INSCRICAO              233 non-null    int64  \n",
      " 12  TP_ESCOLA                 233 non-null    int64  \n",
      "dtypes: float64(6), int64(6), object(1)\n",
      "memory usage: 25.5+ KB\n"
     ]
    }
   ],
   "source": [
    "escola_publica.info() # 233 estudantes de escola pública na amostra de dados"
   ]
  },
  {
   "cell_type": "code",
   "execution_count": 37,
   "id": "51d72000-5ae0-4247-b87a-5a5e0c9d55cf",
   "metadata": {},
   "outputs": [
    {
     "name": "stdout",
     "output_type": "stream",
     "text": [
      "<class 'pandas.core.frame.DataFrame'>\n",
      "Index: 8 entries, 122 to 959\n",
      "Data columns (total 13 columns):\n",
      " #   Column                    Non-Null Count  Dtype  \n",
      "---  ------                    --------------  -----  \n",
      " 0   Estado civil              8 non-null      int64  \n",
      " 1   Raca/cor                  8 non-null      int64  \n",
      " 2   Sexo                      8 non-null      object \n",
      " 3   Nacionalidade             8 non-null      int64  \n",
      " 4   Situação do Ensino Medio  8 non-null      int64  \n",
      " 5   Nota C Naturais           8 non-null      float64\n",
      " 6   Nota C Humanas            8 non-null      float64\n",
      " 7   Nota Linguagens           8 non-null      float64\n",
      " 8   Nota mat                  8 non-null      float64\n",
      " 9   Situacao redacao          8 non-null      float64\n",
      " 10  Nota redacao              8 non-null      float64\n",
      " 11  NU_INSCRICAO              8 non-null      int64  \n",
      " 12  TP_ESCOLA                 8 non-null      int64  \n",
      "dtypes: float64(6), int64(6), object(1)\n",
      "memory usage: 896.0+ bytes\n"
     ]
    }
   ],
   "source": [
    "escola_particular.info() # Apenas 8 estudantes são de escola particular na amostra de dados"
   ]
  },
  {
   "cell_type": "markdown",
   "id": "ecf400fb-fb97-4457-a3bc-f1a0290f594d",
   "metadata": {},
   "source": [
    "A maior parte dos participantes na amostra não informaram o tipo de ensino (qual a causa disso?)"
   ]
  },
  {
   "cell_type": "code",
   "execution_count": 38,
   "id": "ae16e322-2a50-4110-8daa-f079903100f0",
   "metadata": {},
   "outputs": [],
   "source": [
    "microdata_filtered['TP_ESCOLA'] = microdata_filtered['TP_ESCOLA'].map({\n",
    "    1: 'Não informado',\n",
    "    2: 'Escola Pública',\n",
    "    3: 'Escola Privada'\n",
    "})"
   ]
  },
  {
   "cell_type": "code",
   "execution_count": 39,
   "id": "8bf01816-eb23-44b6-adb6-8f6adf8823fa",
   "metadata": {},
   "outputs": [
    {
     "data": {
      "text/plain": [
       "array(['Não informado', 'Escola Pública', 'Escola Privada'], dtype=object)"
      ]
     },
     "execution_count": 39,
     "metadata": {},
     "output_type": "execute_result"
    }
   ],
   "source": [
    "microdata_filtered['TP_ESCOLA'].unique()"
   ]
  },
  {
   "cell_type": "code",
   "execution_count": 41,
   "id": "9bd98824-6cc6-4c0e-91d3-887d92fa9dd1",
   "metadata": {},
   "outputs": [],
   "source": [
    "contagem = microdata_filtered['TP_ESCOLA'].value_counts()"
   ]
  },
  {
   "cell_type": "code",
   "execution_count": 44,
   "id": "1178434d-1f55-4633-a892-ae3cdb429622",
   "metadata": {},
   "outputs": [
    {
     "data": {
      "text/plain": [
       "Text(0.5, 1.0, 'Tipo do ensino dos estudantes')"
      ]
     },
     "execution_count": 44,
     "metadata": {},
     "output_type": "execute_result"
    },
    {
     "data": {
      "image/png": "[encoded data removed]",
      "text/plain": [
       "<Figure size 400x400 with 1 Axes>"
      ]
     },
     "metadata": {},
     "output_type": "display_data"
    }
   ],
   "source": [
    "plt.figure(figsize=(4,4))\n",
    "plt.pie(contagem, labels=contagem.index, autopct='%.1f%%', startangle=90) # labels - nomes das fatias\n",
    "plt.title('Tipo do ensino dos estudantes')"
   ]
  },
  {
   "cell_type": "markdown",
   "id": "157915af-0a6a-4352-bed1-0fe9a834baed",
   "metadata": {},
   "source": [
    "Abaixo está um comparativo da média das notas de acordo com o tipo de ensino:"
   ]
  },
  {
   "cell_type": "code",
   "execution_count": null,
   "id": "60485b0b-ab4f-464d-a4d3-23bd336ecd5d",
   "metadata": {},
   "outputs": [],
   "source": []
  },
  {
   "cell_type": "code",
   "execution_count": 50,
   "id": "12f4ca4b-2e3d-4630-a7fa-02408ad1c675",
   "metadata": {},
   "outputs": [
    {
     "data": {
      "text/html": [
       "<div>\n",
       "<style scoped>\n",
       "    .dataframe tbody tr th:only-of-type {\n",
       "        vertical-align: middle;\n",
       "    }\n",
       "\n",
       "    .dataframe tbody tr th {\n",
       "        vertical-align: top;\n",
       "    }\n",
       "\n",
       "    .dataframe thead th {\n",
       "        text-align: right;\n",
       "    }\n",
       "</style>\n",
       "<table border=\"1\" class=\"dataframe\">\n",
       "  <thead>\n",
       "    <tr style=\"text-align: right;\">\n",
       "      <th></th>\n",
       "      <th>Nota C Naturais</th>\n",
       "      <th>Nota C Humanas</th>\n",
       "      <th>Nota mat</th>\n",
       "      <th>Nota Linguagens</th>\n",
       "      <th>Nota redacao</th>\n",
       "    </tr>\n",
       "    <tr>\n",
       "      <th>TP_ESCOLA</th>\n",
       "      <th></th>\n",
       "      <th></th>\n",
       "      <th></th>\n",
       "      <th></th>\n",
       "      <th></th>\n",
       "    </tr>\n",
       "  </thead>\n",
       "  <tbody>\n",
       "    <tr>\n",
       "      <th>Escola Privada</th>\n",
       "      <td>484.950000</td>\n",
       "      <td>566.262500</td>\n",
       "      <td>571.687500</td>\n",
       "      <td>533.112500</td>\n",
       "      <td>765.000000</td>\n",
       "    </tr>\n",
       "    <tr>\n",
       "      <th>Escola Pública</th>\n",
       "      <td>491.706009</td>\n",
       "      <td>537.054077</td>\n",
       "      <td>527.878112</td>\n",
       "      <td>530.305150</td>\n",
       "      <td>653.476395</td>\n",
       "    </tr>\n",
       "    <tr>\n",
       "      <th>Não informado</th>\n",
       "      <td>498.970092</td>\n",
       "      <td>542.748090</td>\n",
       "      <td>518.909091</td>\n",
       "      <td>529.250329</td>\n",
       "      <td>643.241107</td>\n",
       "    </tr>\n",
       "  </tbody>\n",
       "</table>\n",
       "</div>"
      ],
      "text/plain": [
       "                Nota C Naturais  Nota C Humanas    Nota mat  Nota Linguagens  \\\n",
       "TP_ESCOLA                                                                      \n",
       "Escola Privada       484.950000      566.262500  571.687500       533.112500   \n",
       "Escola Pública       491.706009      537.054077  527.878112       530.305150   \n",
       "Não informado        498.970092      542.748090  518.909091       529.250329   \n",
       "\n",
       "                Nota redacao  \n",
       "TP_ESCOLA                     \n",
       "Escola Privada    765.000000  \n",
       "Escola Pública    653.476395  \n",
       "Não informado     643.241107  "
      ]
     },
     "execution_count": 50,
     "metadata": {},
     "output_type": "execute_result"
    }
   ],
   "source": [
    "microdata_filtered.groupby('TP_ESCOLA')[['Nota C Naturais','Nota C Humanas','Nota mat', 'Nota Linguagens','Nota redacao']].mean()"
   ]
  },
  {
   "cell_type": "code",
   "execution_count": null,
   "id": "c1d07652-d314-43bd-92ac-a5b23b023297",
   "metadata": {},
   "outputs": [],
   "source": []
  }
 ],
 "metadata": {
  "kernelspec": {
   "display_name": "Python 3 (ipykernel)",
   "language": "python",
   "name": "python3"
  },
  "language_info": {
   "codemirror_mode": {
    "name": "ipython",
    "version": 3
   },
   "file_extension": ".py",
   "mimetype": "text/x-python",
   "name": "python",
   "nbconvert_exporter": "python",
   "pygments_lexer": "ipython3",
   "version": "3.10.12"
  }
 },
 "nbformat": 4,
 "nbformat_minor": 5
}
