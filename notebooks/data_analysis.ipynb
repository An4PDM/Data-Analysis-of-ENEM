{
 "cells": [
  {
   "cell_type": "code",
   "execution_count": 1,
   "id": "d0fcdc0f-10b2-430a-97b3-f7cee0af03ce",
   "metadata": {},
   "outputs": [],
   "source": [
    "import pandas as pd\n",
    "import numpy as np\n",
    "import matplotlib.pyplot as plt\n",
    "import seaborn as sns\n",
    "from pprint import pprint"
   ]
  },
  {
   "cell_type": "code",
   "execution_count": null,
   "id": "673fdd9e-5142-493f-af78-8680ce303162",
   "metadata": {},
   "outputs": [],
   "source": [
    "microdata.to_pickle('../data/enem_2023.pkl') "
   ]
  },
  {
   "cell_type": "code",
   "execution_count": null,
   "id": "620d069f-25e9-4950-af45-79ac338d261f",
   "metadata": {},
   "outputs": [],
   "source": [
    "dict_microdata.to_pickle('../data/dictionary/dict_microdata.pkl')"
   ]
  },
  {
   "cell_type": "code",
   "execution_count": null,
   "id": "dc9d12ae-c267-4839-843e-a5432aaf1c5e",
   "metadata": {},
   "outputs": [],
   "source": [
    "items_data.to_pickle('../data/items_data.pkl')"
   ]
  },
  {
   "cell_type": "code",
   "execution_count": 12,
   "id": "d5f76f5b-9fc2-46fa-879a-a7b7be806fc2",
   "metadata": {},
   "outputs": [],
   "source": [
    "microdata_filtered.to_pickle('../data/microdata_filtered.pkl')"
   ]
  },
  {
   "cell_type": "code",
   "execution_count": null,
   "id": "fed98763-2421-4215-b2e9-ce17145d5317",
   "metadata": {},
   "outputs": [],
   "source": [
    "medias_gerais.to_pickle('../data/medias_gerais.pkl')"
   ]
  },
  {
   "cell_type": "code",
   "execution_count": 15,
   "id": "15b62054-ba7c-4909-9060-e743013416fe",
   "metadata": {},
   "outputs": [],
   "source": [
    "microdata = pd.read_pickle('../data/enem_2023.pkl')\n",
    "items_data = pd.read_pickle('../data/items_data.pkl')\n",
    "dict_microdata = pd.read_pickle('../data/dictionary/dict_microdata.pkl')\n",
    "microdata_filtered = pd.read_pickle('../data/microdata_filtered.pkl')\n",
    "medias_gerais = pd.read_pickle('../data/medias_gerais.pkl')"
   ]
  },
  {
   "cell_type": "code",
   "execution_count": 9,
   "id": "94c412f8-8f78-47e0-b655-2e1bd9db9264",
   "metadata": {},
   "outputs": [
    {
     "data": {
      "text/plain": [
       "Index(['Ano do ENEM', 'Estado civil', 'Raca/cor', 'Sexo', 'Nacionalidade',\n",
       "       'Situação do Ensino Medio', 'Nota C Naturais', 'Nota C Humanas',\n",
       "       'Nota Linguagens', 'Nota mat', 'Situacao redacao', 'Nota redacao',\n",
       "       'NU_INSCRICAO'],\n",
       "      dtype='object')"
      ]
     },
     "execution_count": 9,
     "metadata": {},
     "output_type": "execute_result"
    }
   ],
   "source": [
    "microdata_filtered.columns"
   ]
  },
  {
   "cell_type": "code",
   "execution_count": 18,
   "id": "584d4397-c16d-4625-b719-4701ab9035ab",
   "metadata": {},
   "outputs": [
    {
     "data": {
      "text/plain": [
       "np.int64(999)"
      ]
     },
     "execution_count": 18,
     "metadata": {},
     "output_type": "execute_result"
    }
   ],
   "source": [
    "# Verificação de valores duplicados na coluna Ano do ENEM\n",
    "microdata_filtered['Ano do ENEM'].duplicated().sum()"
   ]
  },
  {
   "cell_type": "code",
   "execution_count": 19,
   "id": "65b3aa6b-ae8c-458b-946e-17513a1da914",
   "metadata": {},
   "outputs": [
    {
     "data": {
      "text/plain": [
       "array([2023])"
      ]
     },
     "execution_count": 19,
     "metadata": {},
     "output_type": "execute_result"
    }
   ],
   "source": [
    "microdata_filtered['Ano do ENEM'].unique()"
   ]
  },
  {
   "cell_type": "markdown",
   "id": "2152c651-4745-49b1-b1a0-73c7a4dc6e69",
   "metadata": {},
   "source": [
    "A coluna \"Ano do ENEM\" possui o mesmo valor: 2023. Portanto é ineficiente mantê-la no DataFrame"
   ]
  },
  {
   "cell_type": "code",
   "execution_count": 10,
   "id": "3052fea3-37c4-4055-ba27-a3a37e334c05",
   "metadata": {},
   "outputs": [],
   "source": [
    "microdata_filtered = microdata_filtered.drop(columns=['Ano do ENEM'])"
   ]
  },
  {
   "cell_type": "code",
   "execution_count": 16,
   "id": "f2ee369c-aed3-418d-8e97-7683cfd79842",
   "metadata": {},
   "outputs": [
    {
     "data": {
      "text/plain": [
       "Index(['Estado civil', 'Raca/cor', 'Sexo', 'Nacionalidade',\n",
       "       'Situação do Ensino Medio', 'Nota C Naturais', 'Nota C Humanas',\n",
       "       'Nota Linguagens', 'Nota mat', 'Situacao redacao', 'Nota redacao',\n",
       "       'NU_INSCRICAO'],\n",
       "      dtype='object')"
      ]
     },
     "execution_count": 16,
     "metadata": {},
     "output_type": "execute_result"
    }
   ],
   "source": [
    "microdata_filtered.columns"
   ]
  },
  {
   "cell_type": "markdown",
   "id": "023f83ca-047b-4206-ae9f-caed3765f969",
   "metadata": {},
   "source": [
    "**OUTLIERS**\n",
    "\n",
    "Abaixo está a função para identificar os outliers nas notas de cada conhecimento"
   ]
  },
  {
   "cell_type": "code",
   "execution_count": 3,
   "id": "af8a6ca4-5e42-47ca-a125-f1b00179ee05",
   "metadata": {},
   "outputs": [],
   "source": [
    "def outliers(coluna):\n",
    "    q1 = microdata_filtered[coluna].quantile(0.25)\n",
    "    q3 = microdata_filtered[coluna].quantile(0.75)\n",
    "\n",
    "    iqr = q3 - q1\n",
    "\n",
    "    lim_inferior = q1 - 1.5 * iqr\n",
    "    lim_superior = q3 + 1.5 * iqr\n",
    "\n",
    "    print(f\"Coluna: {coluna}\")\n",
    "    print(f\"Limite inferior: {lim_inferior:.2f}\")\n",
    "    print(f\"Limite superior: {lim_superior:.2f}\")\n",
    "    print(f\"Poucos alunos tiraram nota acima de {lim_superior:.2f} e abaixo de {lim_inferior:.2f}\")"
   ]
  },
  {
   "cell_type": "code",
   "execution_count": 4,
   "id": "bbeef766-4ce6-42d3-8337-f93d16430681",
   "metadata": {},
   "outputs": [
    {
     "name": "stdout",
     "output_type": "stream",
     "text": [
      "Coluna: Nota C Naturais\n",
      "Limite inferior: 388.81\n",
      "Limite superior: 604.31\n",
      "Poucos alunos tiraram nota acima de 604.31 e abaixo de 388.81\n"
     ]
    }
   ],
   "source": [
    "outliers('Nota C Naturais')"
   ]
  },
  {
   "cell_type": "code",
   "execution_count": 5,
   "id": "994eeb54-18cd-4bad-bc0b-30dea398962c",
   "metadata": {},
   "outputs": [
    {
     "name": "stdout",
     "output_type": "stream",
     "text": [
      "Coluna: Nota C Humanas\n",
      "Limite inferior: 445.76\n",
      "Limite superior: 646.06\n",
      "Poucos alunos tiraram nota acima de 646.06 e abaixo de 445.76\n"
     ]
    }
   ],
   "source": [
    "outliers('Nota C Humanas')"
   ]
  },
  {
   "cell_type": "code",
   "execution_count": 6,
   "id": "94f04c9a-990e-456f-8975-22d8e0e1684c",
   "metadata": {},
   "outputs": [
    {
     "name": "stdout",
     "output_type": "stream",
     "text": [
      "Coluna: Nota Linguagens\n",
      "Limite inferior: 435.30\n",
      "Limite superior: 631.70\n",
      "Poucos alunos tiraram nota acima de 631.70 e abaixo de 435.30\n"
     ]
    }
   ],
   "source": [
    "outliers('Nota Linguagens')"
   ]
  },
  {
   "cell_type": "code",
   "execution_count": 7,
   "id": "d86cc7df-b261-4d0f-a8ab-bca5c34a8323",
   "metadata": {},
   "outputs": [
    {
     "name": "stdout",
     "output_type": "stream",
     "text": [
      "Coluna: Nota mat\n",
      "Limite inferior: 348.81\n",
      "Limite superior: 689.51\n",
      "Poucos alunos tiraram nota acima de 689.51 e abaixo de 348.81\n"
     ]
    }
   ],
   "source": [
    "outliers('Nota mat')"
   ]
  },
  {
   "cell_type": "code",
   "execution_count": 8,
   "id": "4a5fbb96-0fb5-48dc-9ce9-38936cd11871",
   "metadata": {},
   "outputs": [
    {
     "name": "stdout",
     "output_type": "stream",
     "text": [
      "Coluna: Nota redacao\n",
      "Limite inferior: 370.00\n",
      "Limite superior: 930.00\n",
      "Poucos alunos tiraram nota acima de 930.00 e abaixo de 370.00\n"
     ]
    }
   ],
   "source": [
    "outliers('Nota redacao')"
   ]
  },
  {
   "cell_type": "code",
   "execution_count": 13,
   "id": "1695a113-4b5e-485d-9e82-94c9d2a7619c",
   "metadata": {},
   "outputs": [],
   "source": [
    "# Média das 4 áreas por candidato (nota geral):\n",
    "medias_gerais = pd.DataFrame({\n",
    "    'NU_INSCRICAO': microdata_filtered['NU_INSCRICAO'],\n",
    "    'media geral': microdata_filtered[[\n",
    "    'Nota C Naturais', 'Nota C Humanas', 'Nota Linguagens', 'Nota mat', 'Nota redacao'\n",
    "]].mean(axis=1)})"
   ]
  },
  {
   "cell_type": "code",
   "execution_count": 14,
   "id": "17fcf303-4e2a-4bd7-b18c-051569f24435",
   "metadata": {},
   "outputs": [
    {
     "data": {
      "text/html": [
       "<div>\n",
       "<style scoped>\n",
       "    .dataframe tbody tr th:only-of-type {\n",
       "        vertical-align: middle;\n",
       "    }\n",
       "\n",
       "    .dataframe tbody tr th {\n",
       "        vertical-align: top;\n",
       "    }\n",
       "\n",
       "    .dataframe thead th {\n",
       "        text-align: right;\n",
       "    }\n",
       "</style>\n",
       "<table border=\"1\" class=\"dataframe\">\n",
       "  <thead>\n",
       "    <tr style=\"text-align: right;\">\n",
       "      <th></th>\n",
       "      <th>NU_INSCRICAO</th>\n",
       "      <th>media geral</th>\n",
       "    </tr>\n",
       "  </thead>\n",
       "  <tbody>\n",
       "    <tr>\n",
       "      <th>0</th>\n",
       "      <td>210059085136</td>\n",
       "      <td>545.82</td>\n",
       "    </tr>\n",
       "    <tr>\n",
       "      <th>1</th>\n",
       "      <td>210059527735</td>\n",
       "      <td>545.82</td>\n",
       "    </tr>\n",
       "    <tr>\n",
       "      <th>2</th>\n",
       "      <td>210061103945</td>\n",
       "      <td>507.94</td>\n",
       "    </tr>\n",
       "    <tr>\n",
       "      <th>3</th>\n",
       "      <td>210060214087</td>\n",
       "      <td>564.28</td>\n",
       "    </tr>\n",
       "    <tr>\n",
       "      <th>4</th>\n",
       "      <td>210059980948</td>\n",
       "      <td>425.38</td>\n",
       "    </tr>\n",
       "  </tbody>\n",
       "</table>\n",
       "</div>"
      ],
      "text/plain": [
       "   NU_INSCRICAO  media geral\n",
       "0  210059085136       545.82\n",
       "1  210059527735       545.82\n",
       "2  210061103945       507.94\n",
       "3  210060214087       564.28\n",
       "4  210059980948       425.38"
      ]
     },
     "execution_count": 14,
     "metadata": {},
     "output_type": "execute_result"
    }
   ],
   "source": [
    "medias_gerais.head()"
   ]
  },
  {
   "cell_type": "code",
   "execution_count": 17,
   "id": "bc4e4250-37bb-49ee-a076-2e513f2631c8",
   "metadata": {},
   "outputs": [],
   "source": [
    "# Média das notas por sexo\n",
    "medias_gerais['sexo'] = microdata_filtered['Sexo'].copy()"
   ]
  },
  {
   "cell_type": "code",
   "execution_count": 18,
   "id": "236ecdf5-4b09-4915-b904-50475a6d8113",
   "metadata": {},
   "outputs": [
    {
     "data": {
      "text/plain": [
       "sexo\n",
       "F    543.801804\n",
       "M    553.809884\n",
       "Name: media geral, dtype: float64"
      ]
     },
     "execution_count": 18,
     "metadata": {},
     "output_type": "execute_result"
    }
   ],
   "source": [
    "medias_gerais.groupby('sexo')['media geral'].mean()"
   ]
  },
  {
   "cell_type": "code",
   "execution_count": 19,
   "id": "efc283ce-fd3d-4867-a114-a6d06e3c23d6",
   "metadata": {},
   "outputs": [
    {
     "data": {
      "text/plain": [
       "Sexo\n",
       "F    510.735015\n",
       "M    541.619653\n",
       "Name: Nota mat, dtype: float64"
      ]
     },
     "execution_count": 19,
     "metadata": {},
     "output_type": "execute_result"
    }
   ],
   "source": [
    "# Média das notas por sexo e área de conhecimento\n",
    "microdata_filtered.groupby('Sexo')['Nota mat'].mean()"
   ]
  },
  {
   "cell_type": "code",
   "execution_count": 20,
   "id": "078c4b63-45f4-467f-9d1b-66d544a6b055",
   "metadata": {},
   "outputs": [
    {
     "data": {
      "text/plain": [
       "Sexo\n",
       "F    527.926606\n",
       "M    532.552023\n",
       "Name: Nota Linguagens, dtype: float64"
      ]
     },
     "execution_count": 20,
     "metadata": {},
     "output_type": "execute_result"
    }
   ],
   "source": [
    "microdata_filtered.groupby('Sexo')['Nota Linguagens'].mean()"
   ]
  },
  {
   "cell_type": "code",
   "execution_count": 21,
   "id": "06bffdcc-c8e6-49ab-a7d6-a1600c7dded8",
   "metadata": {},
   "outputs": [
    {
     "data": {
      "text/plain": [
       "Sexo\n",
       "F    653.180428\n",
       "M    634.161850\n",
       "Name: Nota redacao, dtype: float64"
      ]
     },
     "execution_count": 21,
     "metadata": {},
     "output_type": "execute_result"
    }
   ],
   "source": [
    "microdata_filtered.groupby('Sexo')['Nota redacao'].mean()"
   ]
  },
  {
   "cell_type": "code",
   "execution_count": 22,
   "id": "b58dfe1b-5c29-463c-81f3-a439f80a8cdc",
   "metadata": {},
   "outputs": [],
   "source": [
    "# Área com maior dificuldade\n",
    "media_por_area = pd.Series({\n",
    "    'C Naturais': microdata_filtered['Nota C Naturais'].mean(axis=0),\n",
    "    'C Humanas': microdata_filtered['Nota C Humanas'].mean(axis=0),\n",
    "    'Linguagens': microdata_filtered['Nota Linguagens'].mean(axis=0),\n",
    "    'Matematica': microdata_filtered['Nota mat'].mean(axis=0),\n",
    "    'Redacao': microdata_filtered['Nota redacao'].mean(axis=0)\n",
    "})"
   ]
  },
  {
   "cell_type": "code",
   "execution_count": 24,
   "id": "9252da33-da35-47e6-aac6-e6c09705efda",
   "metadata": {},
   "outputs": [
    {
     "data": {
      "text/plain": [
       "C Naturais    497.1654\n",
       "Matematica    521.4211\n",
       "Linguagens    529.5270\n",
       "C Humanas     541.6095\n",
       "Redacao       646.6000\n",
       "dtype: float64"
      ]
     },
     "execution_count": 24,
     "metadata": {},
     "output_type": "execute_result"
    }
   ],
   "source": [
    "media_por_area = media_por_area.sort_values()\n",
    "media_por_area"
   ]
  },
  {
   "cell_type": "markdown",
   "id": "5615e1e5-3bc9-4a84-a8c1-0ed481500996",
   "metadata": {},
   "source": [
    "A área com maior nível de dificuldade foi Ciências Naturais."
   ]
  },
  {
   "cell_type": "code",
   "execution_count": null,
   "id": "32ea886f-43c4-48a5-b233-4c3b284dd81d",
   "metadata": {},
   "outputs": [],
   "source": [
    "# Desvio padrão das notas por tipo de escola"
   ]
  },
  {
   "cell_type": "code",
   "execution_count": null,
   "id": "119df9be-ee97-4857-8292-68be0ee4b517",
   "metadata": {},
   "outputs": [],
   "source": [
    "# Distribuição da idade dos candidatos"
   ]
  },
  {
   "cell_type": "code",
   "execution_count": null,
   "id": "bc9cb488-4a94-4306-8036-7d7ee13b06f8",
   "metadata": {},
   "outputs": [],
   "source": []
  },
  {
   "cell_type": "code",
   "execution_count": null,
   "id": "3089b864-9d66-4190-9eff-9868400795ac",
   "metadata": {},
   "outputs": [],
   "source": []
  }
 ],
 "metadata": {
  "kernelspec": {
   "display_name": "Python 3 (ipykernel)",
   "language": "python",
   "name": "python3"
  },
  "language_info": {
   "codemirror_mode": {
    "name": "ipython",
    "version": 3
   },
   "file_extension": ".py",
   "mimetype": "text/x-python",
   "name": "python",
   "nbconvert_exporter": "python",
   "pygments_lexer": "ipython3",
   "version": "3.10.12"
  }
 },
 "nbformat": 4,
 "nbformat_minor": 5
}
